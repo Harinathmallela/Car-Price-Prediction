{
 "cells": [
  {
   "cell_type": "markdown",
   "id": "6069035c",
   "metadata": {},
   "source": [
    "# CAR PRICE PREDICTION\n"
   ]
  },
  {
   "cell_type": "markdown",
   "id": "518ee0b9",
   "metadata": {},
   "source": [
    "## Importing the required libraries:"
   ]
  },
  {
   "cell_type": "code",
   "execution_count": 1,
   "id": "077003fb",
   "metadata": {},
   "outputs": [],
   "source": [
    "import pandas as pd\n",
    "import numpy as np\n",
    "import seaborn as sns\n",
    "import matplotlib.pyplot as plt\n",
    "import sklearn\n",
    "from sklearn.model_selection import train_test_split,cross_val_score,GridSearchCV,RandomizedSearchCV\n",
    "from sklearn.ensemble import RandomForestRegressor,AdaBoostRegressor\n",
    "from sklearn.linear_model import LinearRegression,ElasticNet\n",
    "from sklearn.svm import SVR\n",
    "from sklearn.tree import DecisionTreeRegressor\n",
    "from sklearn.neighbors import KNeighborsRegressor\n",
    "from sklearn.metrics import mean_absolute_error,mean_squared_error,r2_score\n",
    "from sklearn.preprocessing import MinMaxScaler,power_transform,LabelEncoder,OrdinalEncoder,StandardScaler\n",
    "from sklearn.decomposition import PCA\n",
    "from scipy.stats import zscore\n",
    "import warnings\n",
    "warnings.filterwarnings('ignore')"
   ]
  },
  {
   "cell_type": "markdown",
   "id": "e14181d3",
   "metadata": {},
   "source": [
    "## Loading the dataset:"
   ]
  },
  {
   "cell_type": "code",
   "execution_count": 2,
   "id": "b4408f35",
   "metadata": {},
   "outputs": [],
   "source": [
    "df=pd.read_csv(\"cars.csv\")"
   ]
  },
  {
   "cell_type": "code",
   "execution_count": 3,
   "id": "1ce9d0b2",
   "metadata": {
    "scrolled": true
   },
   "outputs": [
    {
     "data": {
      "text/html": [
       "<div>\n",
       "<style scoped>\n",
       "    .dataframe tbody tr th:only-of-type {\n",
       "        vertical-align: middle;\n",
       "    }\n",
       "\n",
       "    .dataframe tbody tr th {\n",
       "        vertical-align: top;\n",
       "    }\n",
       "\n",
       "    .dataframe thead th {\n",
       "        text-align: right;\n",
       "    }\n",
       "</style>\n",
       "<table border=\"1\" class=\"dataframe\">\n",
       "  <thead>\n",
       "    <tr style=\"text-align: right;\">\n",
       "      <th></th>\n",
       "      <th>Unnamed: 0</th>\n",
       "      <th>Brand</th>\n",
       "      <th>Model</th>\n",
       "      <th>Variant</th>\n",
       "      <th>Manufacturing_Year</th>\n",
       "      <th>Driven_Kilometers</th>\n",
       "      <th>Fuel</th>\n",
       "      <th>Number_Of_Owners</th>\n",
       "      <th>Location</th>\n",
       "      <th>Price</th>\n",
       "    </tr>\n",
       "  </thead>\n",
       "  <tbody>\n",
       "    <tr>\n",
       "      <th>0</th>\n",
       "      <td>0</td>\n",
       "      <td>Honda</td>\n",
       "      <td>City</td>\n",
       "      <td>V</td>\n",
       "      <td>2016</td>\n",
       "      <td>46,948 Kms</td>\n",
       "      <td>Petrol</td>\n",
       "      <td>First</td>\n",
       "      <td>Chennai</td>\n",
       "      <td>7.45 Lakh</td>\n",
       "    </tr>\n",
       "    <tr>\n",
       "      <th>1</th>\n",
       "      <td>1</td>\n",
       "      <td>Toyota</td>\n",
       "      <td>Corolla Altis</td>\n",
       "      <td>1.8 J</td>\n",
       "      <td>2014</td>\n",
       "      <td>72,497 Kms</td>\n",
       "      <td>Petrol</td>\n",
       "      <td>Second</td>\n",
       "      <td>Bangalore</td>\n",
       "      <td>8.25 Lakh</td>\n",
       "    </tr>\n",
       "    <tr>\n",
       "      <th>2</th>\n",
       "      <td>2</td>\n",
       "      <td>Honda</td>\n",
       "      <td>Brio</td>\n",
       "      <td>V MT</td>\n",
       "      <td>2015</td>\n",
       "      <td>21,873 Kms</td>\n",
       "      <td>Petrol</td>\n",
       "      <td>First</td>\n",
       "      <td>Bangalore</td>\n",
       "      <td>4.89 Lakh</td>\n",
       "    </tr>\n",
       "    <tr>\n",
       "      <th>3</th>\n",
       "      <td>3</td>\n",
       "      <td>Hyundai</td>\n",
       "      <td>Grand i10</td>\n",
       "      <td>Sportz 1.2 Kappa VTVT [2016-2017]</td>\n",
       "      <td>2019</td>\n",
       "      <td>17,916 Kms</td>\n",
       "      <td>Petrol</td>\n",
       "      <td>First</td>\n",
       "      <td>Kolkata</td>\n",
       "      <td>5 Lakh</td>\n",
       "    </tr>\n",
       "    <tr>\n",
       "      <th>4</th>\n",
       "      <td>4</td>\n",
       "      <td>Hyundai</td>\n",
       "      <td>Creta</td>\n",
       "      <td>1.6 S Petrol</td>\n",
       "      <td>2015</td>\n",
       "      <td>27,598 Kms</td>\n",
       "      <td>Petrol</td>\n",
       "      <td>First</td>\n",
       "      <td>Bangalore</td>\n",
       "      <td>9.48 Lakh</td>\n",
       "    </tr>\n",
       "  </tbody>\n",
       "</table>\n",
       "</div>"
      ],
      "text/plain": [
       "   Unnamed: 0    Brand          Model                            Variant  \\\n",
       "0           0    Honda           City                                  V   \n",
       "1           1   Toyota  Corolla Altis                              1.8 J   \n",
       "2           2    Honda           Brio                               V MT   \n",
       "3           3  Hyundai      Grand i10  Sportz 1.2 Kappa VTVT [2016-2017]   \n",
       "4           4  Hyundai          Creta                       1.6 S Petrol   \n",
       "\n",
       "   Manufacturing_Year Driven_Kilometers    Fuel Number_Of_Owners   Location  \\\n",
       "0                2016        46,948 Kms  Petrol            First    Chennai   \n",
       "1                2014        72,497 Kms  Petrol           Second  Bangalore   \n",
       "2                2015        21,873 Kms  Petrol            First  Bangalore   \n",
       "3                2019        17,916 Kms  Petrol            First    Kolkata   \n",
       "4                2015        27,598 Kms  Petrol            First  Bangalore   \n",
       "\n",
       "       Price  \n",
       "0  7.45 Lakh  \n",
       "1  8.25 Lakh  \n",
       "2  4.89 Lakh  \n",
       "3     5 Lakh  \n",
       "4  9.48 Lakh  "
      ]
     },
     "execution_count": 3,
     "metadata": {},
     "output_type": "execute_result"
    }
   ],
   "source": [
    "df.head()"
   ]
  },
  {
   "cell_type": "code",
   "execution_count": 4,
   "id": "3f495e97",
   "metadata": {},
   "outputs": [],
   "source": [
    "# droping the Unnamed: 0 column\n",
    "df.drop('Unnamed: 0',axis=1,inplace=True)"
   ]
  },
  {
   "cell_type": "code",
   "execution_count": 5,
   "id": "415d3b35",
   "metadata": {
    "scrolled": true
   },
   "outputs": [
    {
     "data": {
      "text/plain": [
       "(5041, 9)"
      ]
     },
     "execution_count": 5,
     "metadata": {},
     "output_type": "execute_result"
    }
   ],
   "source": [
    "#i have extracted 5041 rows of cars data\n",
    "df.shape"
   ]
  },
  {
   "cell_type": "code",
   "execution_count": 6,
   "id": "34678f57",
   "metadata": {},
   "outputs": [],
   "source": [
    "#we have 9 columns and 5041 rows"
   ]
  },
  {
   "cell_type": "markdown",
   "id": "bdb4cf74",
   "metadata": {},
   "source": [
    "## EDA (Exploratory Data Analysis)"
   ]
  },
  {
   "cell_type": "code",
   "execution_count": 7,
   "id": "411d83d9",
   "metadata": {},
   "outputs": [
    {
     "data": {
      "text/plain": [
       "Index(['Brand', 'Model', 'Variant', 'Manufacturing_Year', 'Driven_Kilometers',\n",
       "       'Fuel', 'Number_Of_Owners', 'Location', 'Price'],\n",
       "      dtype='object')"
      ]
     },
     "execution_count": 7,
     "metadata": {},
     "output_type": "execute_result"
    }
   ],
   "source": [
    "#checking columns\n",
    "df.columns"
   ]
  },
  {
   "cell_type": "code",
   "execution_count": 8,
   "id": "71d7304c",
   "metadata": {
    "scrolled": true
   },
   "outputs": [
    {
     "data": {
      "text/plain": [
       "Brand                 object\n",
       "Model                 object\n",
       "Variant               object\n",
       "Manufacturing_Year     int64\n",
       "Driven_Kilometers     object\n",
       "Fuel                  object\n",
       "Number_Of_Owners      object\n",
       "Location              object\n",
       "Price                 object\n",
       "dtype: object"
      ]
     },
     "execution_count": 8,
     "metadata": {},
     "output_type": "execute_result"
    }
   ],
   "source": [
    "#checking datatypes\n",
    "df.dtypes"
   ]
  },
  {
   "cell_type": "code",
   "execution_count": 9,
   "id": "85505acd",
   "metadata": {},
   "outputs": [],
   "source": [
    "#we have int and object data types"
   ]
  },
  {
   "cell_type": "code",
   "execution_count": 10,
   "id": "0a486f41",
   "metadata": {
    "scrolled": true
   },
   "outputs": [
    {
     "data": {
      "text/plain": [
       "Brand                 0\n",
       "Model                 0\n",
       "Variant               0\n",
       "Manufacturing_Year    0\n",
       "Driven_Kilometers     0\n",
       "Fuel                  0\n",
       "Number_Of_Owners      0\n",
       "Location              0\n",
       "Price                 0\n",
       "dtype: int64"
      ]
     },
     "execution_count": 10,
     "metadata": {},
     "output_type": "execute_result"
    }
   ],
   "source": [
    "#lets check for null values\n",
    "df.isnull().sum()"
   ]
  },
  {
   "cell_type": "code",
   "execution_count": 11,
   "id": "cd45de96",
   "metadata": {},
   "outputs": [],
   "source": [
    "#we have zero null values"
   ]
  },
  {
   "cell_type": "code",
   "execution_count": 12,
   "id": "10d05f32",
   "metadata": {},
   "outputs": [
    {
     "name": "stdout",
     "output_type": "stream",
     "text": [
      "Brand 35\n",
      "Model 232\n",
      "Variant 1216\n",
      "Driven_Kilometers 1396\n",
      "Fuel 6\n",
      "Number_Of_Owners 5\n",
      "Location 54\n",
      "Price 641\n"
     ]
    }
   ],
   "source": [
    "#lets print out the columns with unique values\n",
    "for i in df.columns:\n",
    "    if df[i].dtype == 'object':\n",
    "        print(i,len(pd.unique(df[i])))"
   ]
  },
  {
   "cell_type": "code",
   "execution_count": 13,
   "id": "3c00e8d6",
   "metadata": {},
   "outputs": [],
   "source": [
    "#lets remove Lakh in price and Kms, \",\" in Drive_Kilometers\n",
    "df['Price'] = df['Price'].str.replace('Lakh', '')\n",
    "df['Driven_Kilometers'] = df['Driven_Kilometers'].str.replace('Kms', '')\n",
    "df['Driven_Kilometers'] = df['Driven_Kilometers'].str.replace(',', '')"
   ]
  },
  {
   "cell_type": "code",
   "execution_count": 14,
   "id": "bd9f4fc9",
   "metadata": {
    "scrolled": false
   },
   "outputs": [
    {
     "data": {
      "text/html": [
       "<div>\n",
       "<style scoped>\n",
       "    .dataframe tbody tr th:only-of-type {\n",
       "        vertical-align: middle;\n",
       "    }\n",
       "\n",
       "    .dataframe tbody tr th {\n",
       "        vertical-align: top;\n",
       "    }\n",
       "\n",
       "    .dataframe thead th {\n",
       "        text-align: right;\n",
       "    }\n",
       "</style>\n",
       "<table border=\"1\" class=\"dataframe\">\n",
       "  <thead>\n",
       "    <tr style=\"text-align: right;\">\n",
       "      <th></th>\n",
       "      <th>Brand</th>\n",
       "      <th>Model</th>\n",
       "      <th>Variant</th>\n",
       "      <th>Manufacturing_Year</th>\n",
       "      <th>Driven_Kilometers</th>\n",
       "      <th>Fuel</th>\n",
       "      <th>Number_Of_Owners</th>\n",
       "      <th>Location</th>\n",
       "      <th>Price</th>\n",
       "    </tr>\n",
       "  </thead>\n",
       "  <tbody>\n",
       "    <tr>\n",
       "      <th>0</th>\n",
       "      <td>Honda</td>\n",
       "      <td>City</td>\n",
       "      <td>V</td>\n",
       "      <td>2016</td>\n",
       "      <td>46948</td>\n",
       "      <td>Petrol</td>\n",
       "      <td>First</td>\n",
       "      <td>Chennai</td>\n",
       "      <td>7.45</td>\n",
       "    </tr>\n",
       "    <tr>\n",
       "      <th>1</th>\n",
       "      <td>Toyota</td>\n",
       "      <td>Corolla Altis</td>\n",
       "      <td>1.8 J</td>\n",
       "      <td>2014</td>\n",
       "      <td>72497</td>\n",
       "      <td>Petrol</td>\n",
       "      <td>Second</td>\n",
       "      <td>Bangalore</td>\n",
       "      <td>8.25</td>\n",
       "    </tr>\n",
       "    <tr>\n",
       "      <th>2</th>\n",
       "      <td>Honda</td>\n",
       "      <td>Brio</td>\n",
       "      <td>V MT</td>\n",
       "      <td>2015</td>\n",
       "      <td>21873</td>\n",
       "      <td>Petrol</td>\n",
       "      <td>First</td>\n",
       "      <td>Bangalore</td>\n",
       "      <td>4.89</td>\n",
       "    </tr>\n",
       "    <tr>\n",
       "      <th>3</th>\n",
       "      <td>Hyundai</td>\n",
       "      <td>Grand i10</td>\n",
       "      <td>Sportz 1.2 Kappa VTVT [2016-2017]</td>\n",
       "      <td>2019</td>\n",
       "      <td>17916</td>\n",
       "      <td>Petrol</td>\n",
       "      <td>First</td>\n",
       "      <td>Kolkata</td>\n",
       "      <td>5</td>\n",
       "    </tr>\n",
       "    <tr>\n",
       "      <th>4</th>\n",
       "      <td>Hyundai</td>\n",
       "      <td>Creta</td>\n",
       "      <td>1.6 S Petrol</td>\n",
       "      <td>2015</td>\n",
       "      <td>27598</td>\n",
       "      <td>Petrol</td>\n",
       "      <td>First</td>\n",
       "      <td>Bangalore</td>\n",
       "      <td>9.48</td>\n",
       "    </tr>\n",
       "    <tr>\n",
       "      <th>...</th>\n",
       "      <td>...</td>\n",
       "      <td>...</td>\n",
       "      <td>...</td>\n",
       "      <td>...</td>\n",
       "      <td>...</td>\n",
       "      <td>...</td>\n",
       "      <td>...</td>\n",
       "      <td>...</td>\n",
       "      <td>...</td>\n",
       "    </tr>\n",
       "    <tr>\n",
       "      <th>5036</th>\n",
       "      <td>Hyundai</td>\n",
       "      <td>Eon</td>\n",
       "      <td>Era + AirBag</td>\n",
       "      <td>2016</td>\n",
       "      <td>26000</td>\n",
       "      <td>Petrol</td>\n",
       "      <td>First</td>\n",
       "      <td>Chennai</td>\n",
       "      <td>3.24</td>\n",
       "    </tr>\n",
       "    <tr>\n",
       "      <th>5037</th>\n",
       "      <td>Volkswagen</td>\n",
       "      <td>Vento</td>\n",
       "      <td>Comfortline Diesel AT</td>\n",
       "      <td>2015</td>\n",
       "      <td>65000</td>\n",
       "      <td>Diesel</td>\n",
       "      <td>First</td>\n",
       "      <td>Chennai</td>\n",
       "      <td>7.24</td>\n",
       "    </tr>\n",
       "    <tr>\n",
       "      <th>5038</th>\n",
       "      <td>Maruti Suzuki</td>\n",
       "      <td>Swift</td>\n",
       "      <td>LDi</td>\n",
       "      <td>2012</td>\n",
       "      <td>90000</td>\n",
       "      <td>Diesel</td>\n",
       "      <td>Second</td>\n",
       "      <td>Chennai</td>\n",
       "      <td>4.24</td>\n",
       "    </tr>\n",
       "    <tr>\n",
       "      <th>5039</th>\n",
       "      <td>Mercedes-Benz</td>\n",
       "      <td>GLC</td>\n",
       "      <td>220 d Prime</td>\n",
       "      <td>2017</td>\n",
       "      <td>58500</td>\n",
       "      <td>Diesel</td>\n",
       "      <td>First</td>\n",
       "      <td>Bangalore</td>\n",
       "      <td>46</td>\n",
       "    </tr>\n",
       "    <tr>\n",
       "      <th>5040</th>\n",
       "      <td>Jaguar</td>\n",
       "      <td>F-Pace</td>\n",
       "      <td>Prestige</td>\n",
       "      <td>2018</td>\n",
       "      <td>16000</td>\n",
       "      <td>Diesel</td>\n",
       "      <td>First</td>\n",
       "      <td>Mumbai</td>\n",
       "      <td>51</td>\n",
       "    </tr>\n",
       "  </tbody>\n",
       "</table>\n",
       "<p>5041 rows × 9 columns</p>\n",
       "</div>"
      ],
      "text/plain": [
       "              Brand          Model                            Variant  \\\n",
       "0             Honda           City                                  V   \n",
       "1            Toyota  Corolla Altis                              1.8 J   \n",
       "2             Honda           Brio                               V MT   \n",
       "3           Hyundai      Grand i10  Sportz 1.2 Kappa VTVT [2016-2017]   \n",
       "4           Hyundai          Creta                       1.6 S Petrol   \n",
       "...             ...            ...                                ...   \n",
       "5036        Hyundai            Eon                       Era + AirBag   \n",
       "5037     Volkswagen          Vento              Comfortline Diesel AT   \n",
       "5038  Maruti Suzuki          Swift                                LDi   \n",
       "5039  Mercedes-Benz            GLC                        220 d Prime   \n",
       "5040         Jaguar         F-Pace                           Prestige   \n",
       "\n",
       "      Manufacturing_Year Driven_Kilometers    Fuel Number_Of_Owners  \\\n",
       "0                   2016            46948   Petrol            First   \n",
       "1                   2014            72497   Petrol           Second   \n",
       "2                   2015            21873   Petrol            First   \n",
       "3                   2019            17916   Petrol            First   \n",
       "4                   2015            27598   Petrol            First   \n",
       "...                  ...               ...     ...              ...   \n",
       "5036                2016            26000   Petrol            First   \n",
       "5037                2015            65000   Diesel            First   \n",
       "5038                2012            90000   Diesel           Second   \n",
       "5039                2017            58500   Diesel            First   \n",
       "5040                2018            16000   Diesel            First   \n",
       "\n",
       "       Location  Price  \n",
       "0       Chennai  7.45   \n",
       "1     Bangalore  8.25   \n",
       "2     Bangalore  4.89   \n",
       "3       Kolkata     5   \n",
       "4     Bangalore  9.48   \n",
       "...         ...    ...  \n",
       "5036    Chennai  3.24   \n",
       "5037    Chennai  7.24   \n",
       "5038    Chennai  4.24   \n",
       "5039  Bangalore    46   \n",
       "5040     Mumbai    51   \n",
       "\n",
       "[5041 rows x 9 columns]"
      ]
     },
     "execution_count": 14,
     "metadata": {},
     "output_type": "execute_result"
    }
   ],
   "source": [
    "df"
   ]
  },
  {
   "cell_type": "code",
   "execution_count": 15,
   "id": "9f3b8501",
   "metadata": {},
   "outputs": [],
   "source": [
    "#Lets change Driven_Kilometers dtype from object to int\n",
    "df[\"Driven_Kilometers\"] = df.Driven_Kilometers.astype(int)"
   ]
  },
  {
   "cell_type": "code",
   "execution_count": 16,
   "id": "7cc88a0d",
   "metadata": {},
   "outputs": [],
   "source": [
    "#Lets change Price dtype from object to Float\n",
    "df[\"Price\"] = df.Price.astype(float)"
   ]
  },
  {
   "cell_type": "code",
   "execution_count": 17,
   "id": "7fdd321d",
   "metadata": {},
   "outputs": [],
   "source": [
    "#Lets convert Price into Lakh\n",
    "df['Price'] = df['Price']*100000"
   ]
  },
  {
   "cell_type": "code",
   "execution_count": 18,
   "id": "b90963ae",
   "metadata": {},
   "outputs": [
    {
     "data": {
      "text/plain": [
       "1216"
      ]
     },
     "execution_count": 18,
     "metadata": {},
     "output_type": "execute_result"
    }
   ],
   "source": [
    "df[\"Variant\"].nunique()"
   ]
  },
  {
   "cell_type": "code",
   "execution_count": 19,
   "id": "cbb74048",
   "metadata": {},
   "outputs": [],
   "source": [
    "# droping the Variate column because we have high unique values in this\n",
    "df.drop('Variant',axis=1,inplace=True)"
   ]
  },
  {
   "cell_type": "code",
   "execution_count": 20,
   "id": "67ae6f7a",
   "metadata": {},
   "outputs": [
    {
     "data": {
      "text/html": [
       "<div>\n",
       "<style scoped>\n",
       "    .dataframe tbody tr th:only-of-type {\n",
       "        vertical-align: middle;\n",
       "    }\n",
       "\n",
       "    .dataframe tbody tr th {\n",
       "        vertical-align: top;\n",
       "    }\n",
       "\n",
       "    .dataframe thead th {\n",
       "        text-align: right;\n",
       "    }\n",
       "</style>\n",
       "<table border=\"1\" class=\"dataframe\">\n",
       "  <thead>\n",
       "    <tr style=\"text-align: right;\">\n",
       "      <th></th>\n",
       "      <th>Brand</th>\n",
       "      <th>Model</th>\n",
       "      <th>Manufacturing_Year</th>\n",
       "      <th>Driven_Kilometers</th>\n",
       "      <th>Fuel</th>\n",
       "      <th>Number_Of_Owners</th>\n",
       "      <th>Location</th>\n",
       "      <th>Price</th>\n",
       "    </tr>\n",
       "  </thead>\n",
       "  <tbody>\n",
       "    <tr>\n",
       "      <th>0</th>\n",
       "      <td>Honda</td>\n",
       "      <td>City</td>\n",
       "      <td>2016</td>\n",
       "      <td>46948</td>\n",
       "      <td>Petrol</td>\n",
       "      <td>First</td>\n",
       "      <td>Chennai</td>\n",
       "      <td>745000.0</td>\n",
       "    </tr>\n",
       "    <tr>\n",
       "      <th>1</th>\n",
       "      <td>Toyota</td>\n",
       "      <td>Corolla Altis</td>\n",
       "      <td>2014</td>\n",
       "      <td>72497</td>\n",
       "      <td>Petrol</td>\n",
       "      <td>Second</td>\n",
       "      <td>Bangalore</td>\n",
       "      <td>825000.0</td>\n",
       "    </tr>\n",
       "    <tr>\n",
       "      <th>2</th>\n",
       "      <td>Honda</td>\n",
       "      <td>Brio</td>\n",
       "      <td>2015</td>\n",
       "      <td>21873</td>\n",
       "      <td>Petrol</td>\n",
       "      <td>First</td>\n",
       "      <td>Bangalore</td>\n",
       "      <td>489000.0</td>\n",
       "    </tr>\n",
       "    <tr>\n",
       "      <th>3</th>\n",
       "      <td>Hyundai</td>\n",
       "      <td>Grand i10</td>\n",
       "      <td>2019</td>\n",
       "      <td>17916</td>\n",
       "      <td>Petrol</td>\n",
       "      <td>First</td>\n",
       "      <td>Kolkata</td>\n",
       "      <td>500000.0</td>\n",
       "    </tr>\n",
       "    <tr>\n",
       "      <th>4</th>\n",
       "      <td>Hyundai</td>\n",
       "      <td>Creta</td>\n",
       "      <td>2015</td>\n",
       "      <td>27598</td>\n",
       "      <td>Petrol</td>\n",
       "      <td>First</td>\n",
       "      <td>Bangalore</td>\n",
       "      <td>948000.0</td>\n",
       "    </tr>\n",
       "    <tr>\n",
       "      <th>...</th>\n",
       "      <td>...</td>\n",
       "      <td>...</td>\n",
       "      <td>...</td>\n",
       "      <td>...</td>\n",
       "      <td>...</td>\n",
       "      <td>...</td>\n",
       "      <td>...</td>\n",
       "      <td>...</td>\n",
       "    </tr>\n",
       "    <tr>\n",
       "      <th>5036</th>\n",
       "      <td>Hyundai</td>\n",
       "      <td>Eon</td>\n",
       "      <td>2016</td>\n",
       "      <td>26000</td>\n",
       "      <td>Petrol</td>\n",
       "      <td>First</td>\n",
       "      <td>Chennai</td>\n",
       "      <td>324000.0</td>\n",
       "    </tr>\n",
       "    <tr>\n",
       "      <th>5037</th>\n",
       "      <td>Volkswagen</td>\n",
       "      <td>Vento</td>\n",
       "      <td>2015</td>\n",
       "      <td>65000</td>\n",
       "      <td>Diesel</td>\n",
       "      <td>First</td>\n",
       "      <td>Chennai</td>\n",
       "      <td>724000.0</td>\n",
       "    </tr>\n",
       "    <tr>\n",
       "      <th>5038</th>\n",
       "      <td>Maruti Suzuki</td>\n",
       "      <td>Swift</td>\n",
       "      <td>2012</td>\n",
       "      <td>90000</td>\n",
       "      <td>Diesel</td>\n",
       "      <td>Second</td>\n",
       "      <td>Chennai</td>\n",
       "      <td>424000.0</td>\n",
       "    </tr>\n",
       "    <tr>\n",
       "      <th>5039</th>\n",
       "      <td>Mercedes-Benz</td>\n",
       "      <td>GLC</td>\n",
       "      <td>2017</td>\n",
       "      <td>58500</td>\n",
       "      <td>Diesel</td>\n",
       "      <td>First</td>\n",
       "      <td>Bangalore</td>\n",
       "      <td>4600000.0</td>\n",
       "    </tr>\n",
       "    <tr>\n",
       "      <th>5040</th>\n",
       "      <td>Jaguar</td>\n",
       "      <td>F-Pace</td>\n",
       "      <td>2018</td>\n",
       "      <td>16000</td>\n",
       "      <td>Diesel</td>\n",
       "      <td>First</td>\n",
       "      <td>Mumbai</td>\n",
       "      <td>5100000.0</td>\n",
       "    </tr>\n",
       "  </tbody>\n",
       "</table>\n",
       "<p>5041 rows × 8 columns</p>\n",
       "</div>"
      ],
      "text/plain": [
       "              Brand          Model  Manufacturing_Year  Driven_Kilometers  \\\n",
       "0             Honda           City                2016              46948   \n",
       "1            Toyota  Corolla Altis                2014              72497   \n",
       "2             Honda           Brio                2015              21873   \n",
       "3           Hyundai      Grand i10                2019              17916   \n",
       "4           Hyundai          Creta                2015              27598   \n",
       "...             ...            ...                 ...                ...   \n",
       "5036        Hyundai            Eon                2016              26000   \n",
       "5037     Volkswagen          Vento                2015              65000   \n",
       "5038  Maruti Suzuki          Swift                2012              90000   \n",
       "5039  Mercedes-Benz            GLC                2017              58500   \n",
       "5040         Jaguar         F-Pace                2018              16000   \n",
       "\n",
       "        Fuel Number_Of_Owners   Location      Price  \n",
       "0     Petrol            First    Chennai   745000.0  \n",
       "1     Petrol           Second  Bangalore   825000.0  \n",
       "2     Petrol            First  Bangalore   489000.0  \n",
       "3     Petrol            First    Kolkata   500000.0  \n",
       "4     Petrol            First  Bangalore   948000.0  \n",
       "...      ...              ...        ...        ...  \n",
       "5036  Petrol            First    Chennai   324000.0  \n",
       "5037  Diesel            First    Chennai   724000.0  \n",
       "5038  Diesel           Second    Chennai   424000.0  \n",
       "5039  Diesel            First  Bangalore  4600000.0  \n",
       "5040  Diesel            First     Mumbai  5100000.0  \n",
       "\n",
       "[5041 rows x 8 columns]"
      ]
     },
     "execution_count": 20,
     "metadata": {},
     "output_type": "execute_result"
    }
   ],
   "source": [
    "df"
   ]
  },
  {
   "cell_type": "markdown",
   "id": "32c8ff89",
   "metadata": {},
   "source": [
    "## Data Visulization"
   ]
  },
  {
   "cell_type": "code",
   "execution_count": 21,
   "id": "a4edf7e2",
   "metadata": {},
   "outputs": [
    {
     "data": {
      "image/png": "[encoded data removed]",
      "text/plain": [
       "<Figure size 432x288 with 1 Axes>"
      ]
     },
     "metadata": {
      "needs_background": "light"
     },
     "output_type": "display_data"
    }
   ],
   "source": [
    "#lets check the box plot of our target column, to check if there are outliers\n",
    "sns.boxplot(df.Price)\n",
    "plt.show()"
   ]
  },
  {
   "cell_type": "markdown",
   "id": "7a5f712e",
   "metadata": {},
   "source": [
    "From the above plot we can see there are many outliers in the target column"
   ]
  },
  {
   "cell_type": "code",
   "execution_count": 22,
   "id": "66f8e00c",
   "metadata": {},
   "outputs": [
    {
     "data": {
      "image/png": "[encoded data removed]",
      "text/plain": [
       "<Figure size 432x288 with 1 Axes>"
      ]
     },
     "metadata": {
      "needs_background": "light"
     },
     "output_type": "display_data"
    }
   ],
   "source": [
    "#lets check the distribution of the target column\n",
    "sns.distplot(df.Price)\n",
    "plt.show()"
   ]
  },
  {
   "cell_type": "markdown",
   "id": "4859fcae",
   "metadata": {},
   "source": [
    "From the above plot we can see that data is right skewed in target column"
   ]
  },
  {
   "cell_type": "markdown",
   "id": "610463e3",
   "metadata": {},
   "source": [
    "## Bivariate Analysis with Target Variable"
   ]
  },
  {
   "cell_type": "code",
   "execution_count": 23,
   "id": "24a7dada",
   "metadata": {},
   "outputs": [
    {
     "data": {
      "image/png": "[encoded data removed]",
      "text/plain": [
       "<Figure size 1080x360 with 1 Axes>"
      ]
     },
     "metadata": {
      "needs_background": "light"
     },
     "output_type": "display_data"
    }
   ],
   "source": [
    "#Lets check this column againt our target variable\n",
    "plt.figure(figsize= (15,5))\n",
    "col1 = sns.scatterplot(x = df['Driven_Kilometers'] , y =df['Price'] )\n",
    "col1.set_xticklabels(col1.get_xticklabels(), rotation=40, ha=\"right\") \n",
    "plt.show()"
   ]
  },
  {
   "cell_type": "code",
   "execution_count": 24,
   "id": "c07d2f13",
   "metadata": {},
   "outputs": [],
   "source": [
    "#we don't see any linaer relationship between Km_driven and Price"
   ]
  },
  {
   "cell_type": "code",
   "execution_count": 25,
   "id": "eba721a4",
   "metadata": {},
   "outputs": [
    {
     "data": {
      "image/png": "[encoded data removed]",
      "text/plain": [
       "<Figure size 1080x360 with 1 Axes>"
      ]
     },
     "metadata": {
      "needs_background": "light"
     },
     "output_type": "display_data"
    }
   ],
   "source": [
    "#Lets check this column againt our target variable\n",
    "plt.figure(figsize= (15,5))\n",
    "col7 = sns.barplot(x = 'Number_Of_Owners' , y ='Price', data = df )\n",
    "col7.set_xticklabels(col7.get_xticklabels(), rotation=40, ha=\"right\") \n",
    "plt.show()"
   ]
  },
  {
   "cell_type": "code",
   "execution_count": 26,
   "id": "00b4225e",
   "metadata": {},
   "outputs": [],
   "source": [
    "#we can see that Unregister car has more price compare to other"
   ]
  },
  {
   "cell_type": "code",
   "execution_count": 27,
   "id": "a1b587ef",
   "metadata": {},
   "outputs": [
    {
     "data": {
      "image/png": "[encoded data removed]",
      "text/plain": [
       "<Figure size 1080x360 with 1 Axes>"
      ]
     },
     "metadata": {
      "needs_background": "light"
     },
     "output_type": "display_data"
    }
   ],
   "source": [
    "#Lets check this column againt our target variable\n",
    "plt.figure(figsize= (15,5))\n",
    "col7 = sns.barplot(x = 'Manufacturing_Year' , y ='Price', data = df )\n",
    "col7.set_xticklabels(col7.get_xticklabels(), rotation=40, ha=\"right\") \n",
    "plt.show()"
   ]
  },
  {
   "cell_type": "code",
   "execution_count": 28,
   "id": "5af3a4ad",
   "metadata": {},
   "outputs": [],
   "source": [
    "#we can see that if the car is recently purchased than the  price is high"
   ]
  },
  {
   "cell_type": "code",
   "execution_count": 29,
   "id": "4eb3096b",
   "metadata": {
    "scrolled": false
   },
   "outputs": [
    {
     "data": {
      "image/png": "[encoded data removed]",
      "text/plain": [
       "<Figure size 1080x360 with 1 Axes>"
      ]
     },
     "metadata": {
      "needs_background": "light"
     },
     "output_type": "display_data"
    }
   ],
   "source": [
    "#Lets check this column againt our target variable\n",
    "plt.figure(figsize= (15,5))\n",
    "col7 = sns.barplot(x = 'Brand' , y ='Price', data = df )\n",
    "col7.set_xticklabels(col7.get_xticklabels(), rotation=40, ha=\"right\") \n",
    "plt.show()"
   ]
  },
  {
   "cell_type": "code",
   "execution_count": 30,
   "id": "3d86ed88",
   "metadata": {},
   "outputs": [],
   "source": [
    "#we can see that Bentley,Lamborgini,Aston Martin has more price compare to all"
   ]
  },
  {
   "cell_type": "code",
   "execution_count": 31,
   "id": "2fc24909",
   "metadata": {
    "scrolled": false
   },
   "outputs": [
    {
     "data": {
      "image/png": "[encoded data removed]",
      "text/plain": [
       "<Figure size 1080x360 with 1 Axes>"
      ]
     },
     "metadata": {
      "needs_background": "light"
     },
     "output_type": "display_data"
    }
   ],
   "source": [
    "#Lets check this column againt our target variable\n",
    "plt.figure(figsize= (15,5))\n",
    "col7 = sns.barplot(x = 'Location' , y ='Price', data = df )\n",
    "col7.set_xticklabels(col7.get_xticklabels(), rotation=40, ha=\"right\") \n",
    "plt.show()"
   ]
  },
  {
   "cell_type": "code",
   "execution_count": 32,
   "id": "5a2a2852",
   "metadata": {},
   "outputs": [],
   "source": [
    "#we can see that Kozhikode location have high price and kanyakumari location have low prices"
   ]
  },
  {
   "cell_type": "code",
   "execution_count": 33,
   "id": "b81ffa88",
   "metadata": {
    "scrolled": false
   },
   "outputs": [
    {
     "data": {
      "image/png": "[encoded data removed]",
      "text/plain": [
       "<Figure size 1080x360 with 1 Axes>"
      ]
     },
     "metadata": {
      "needs_background": "light"
     },
     "output_type": "display_data"
    }
   ],
   "source": [
    "#Lets check this column againt our target variable\n",
    "plt.figure(figsize= (15,5))\n",
    "col7 = sns.barplot(x = 'Fuel' , y ='Price', data = df )\n",
    "col7.set_xticklabels(col7.get_xticklabels(), rotation=40, ha=\"right\") \n",
    "plt.show()"
   ]
  },
  {
   "cell_type": "code",
   "execution_count": 34,
   "id": "bddf725c",
   "metadata": {},
   "outputs": [],
   "source": [
    "#we can see that Hybrid type of transmission have high price and LPG type of transmission have low price"
   ]
  },
  {
   "cell_type": "markdown",
   "id": "6a4cf20a",
   "metadata": {},
   "source": [
    "## Encoding the Object Columns"
   ]
  },
  {
   "cell_type": "code",
   "execution_count": 35,
   "id": "8e557e80",
   "metadata": {},
   "outputs": [
    {
     "data": {
      "text/plain": [
       "Brand                  object\n",
       "Model                  object\n",
       "Manufacturing_Year      int64\n",
       "Driven_Kilometers       int32\n",
       "Fuel                   object\n",
       "Number_Of_Owners       object\n",
       "Location               object\n",
       "Price                 float64\n",
       "dtype: object"
      ]
     },
     "execution_count": 35,
     "metadata": {},
     "output_type": "execute_result"
    }
   ],
   "source": [
    "df.dtypes"
   ]
  },
  {
   "cell_type": "code",
   "execution_count": 36,
   "id": "7d243b15",
   "metadata": {
    "scrolled": true
   },
   "outputs": [
    {
     "data": {
      "text/plain": [
       "First               4017\n",
       "Second               919\n",
       "Third                 78\n",
       "UnRegistered Car      24\n",
       "Fourth                 3\n",
       "Name: Number_Of_Owners, dtype: int64"
      ]
     },
     "execution_count": 36,
     "metadata": {},
     "output_type": "execute_result"
    }
   ],
   "source": [
    "df['Number_Of_Owners'].value_counts()"
   ]
  },
  {
   "cell_type": "code",
   "execution_count": 37,
   "id": "30d260bf",
   "metadata": {},
   "outputs": [],
   "source": [
    "le = LabelEncoder()\n",
    "df['Number_Of_Owners'] = le.fit_transform(df.Number_Of_Owners.values)"
   ]
  },
  {
   "cell_type": "code",
   "execution_count": 38,
   "id": "8f00caf8",
   "metadata": {},
   "outputs": [],
   "source": [
    "one_hot_columns = ['Location','Manufacturing_Year','Brand', 'Model',\"Fuel\",]"
   ]
  },
  {
   "cell_type": "code",
   "execution_count": 39,
   "id": "39524f0d",
   "metadata": {},
   "outputs": [],
   "source": [
    "df_new = pd.get_dummies(data = df,columns=one_hot_columns)"
   ]
  },
  {
   "cell_type": "code",
   "execution_count": 40,
   "id": "3d966723",
   "metadata": {},
   "outputs": [
    {
     "data": {
      "text/html": [
       "<div>\n",
       "<style scoped>\n",
       "    .dataframe tbody tr th:only-of-type {\n",
       "        vertical-align: middle;\n",
       "    }\n",
       "\n",
       "    .dataframe tbody tr th {\n",
       "        vertical-align: top;\n",
       "    }\n",
       "\n",
       "    .dataframe thead th {\n",
       "        text-align: right;\n",
       "    }\n",
       "</style>\n",
       "<table border=\"1\" class=\"dataframe\">\n",
       "  <thead>\n",
       "    <tr style=\"text-align: right;\">\n",
       "      <th></th>\n",
       "      <th>Driven_Kilometers</th>\n",
       "      <th>Number_Of_Owners</th>\n",
       "      <th>Price</th>\n",
       "      <th>Location_Agra</th>\n",
       "      <th>Location_Ahmedabad</th>\n",
       "      <th>Location_Akola</th>\n",
       "      <th>Location_Ambala Cantt</th>\n",
       "      <th>Location_Aurangabad</th>\n",
       "      <th>Location_Bangalore</th>\n",
       "      <th>Location_Bhopal</th>\n",
       "      <th>...</th>\n",
       "      <th>Model_e2o Plus</th>\n",
       "      <th>Model_i10</th>\n",
       "      <th>Model_i20</th>\n",
       "      <th>Model_i20 Active</th>\n",
       "      <th>Fuel_CNG</th>\n",
       "      <th>Fuel_Diesel</th>\n",
       "      <th>Fuel_Electric</th>\n",
       "      <th>Fuel_Hybrid</th>\n",
       "      <th>Fuel_LPG</th>\n",
       "      <th>Fuel_Petrol</th>\n",
       "    </tr>\n",
       "  </thead>\n",
       "  <tbody>\n",
       "    <tr>\n",
       "      <th>0</th>\n",
       "      <td>46948</td>\n",
       "      <td>0</td>\n",
       "      <td>745000.0</td>\n",
       "      <td>0</td>\n",
       "      <td>0</td>\n",
       "      <td>0</td>\n",
       "      <td>0</td>\n",
       "      <td>0</td>\n",
       "      <td>0</td>\n",
       "      <td>0</td>\n",
       "      <td>...</td>\n",
       "      <td>0</td>\n",
       "      <td>0</td>\n",
       "      <td>0</td>\n",
       "      <td>0</td>\n",
       "      <td>0</td>\n",
       "      <td>0</td>\n",
       "      <td>0</td>\n",
       "      <td>0</td>\n",
       "      <td>0</td>\n",
       "      <td>1</td>\n",
       "    </tr>\n",
       "    <tr>\n",
       "      <th>1</th>\n",
       "      <td>72497</td>\n",
       "      <td>2</td>\n",
       "      <td>825000.0</td>\n",
       "      <td>0</td>\n",
       "      <td>0</td>\n",
       "      <td>0</td>\n",
       "      <td>0</td>\n",
       "      <td>0</td>\n",
       "      <td>1</td>\n",
       "      <td>0</td>\n",
       "      <td>...</td>\n",
       "      <td>0</td>\n",
       "      <td>0</td>\n",
       "      <td>0</td>\n",
       "      <td>0</td>\n",
       "      <td>0</td>\n",
       "      <td>0</td>\n",
       "      <td>0</td>\n",
       "      <td>0</td>\n",
       "      <td>0</td>\n",
       "      <td>1</td>\n",
       "    </tr>\n",
       "    <tr>\n",
       "      <th>2</th>\n",
       "      <td>21873</td>\n",
       "      <td>0</td>\n",
       "      <td>489000.0</td>\n",
       "      <td>0</td>\n",
       "      <td>0</td>\n",
       "      <td>0</td>\n",
       "      <td>0</td>\n",
       "      <td>0</td>\n",
       "      <td>1</td>\n",
       "      <td>0</td>\n",
       "      <td>...</td>\n",
       "      <td>0</td>\n",
       "      <td>0</td>\n",
       "      <td>0</td>\n",
       "      <td>0</td>\n",
       "      <td>0</td>\n",
       "      <td>0</td>\n",
       "      <td>0</td>\n",
       "      <td>0</td>\n",
       "      <td>0</td>\n",
       "      <td>1</td>\n",
       "    </tr>\n",
       "    <tr>\n",
       "      <th>3</th>\n",
       "      <td>17916</td>\n",
       "      <td>0</td>\n",
       "      <td>500000.0</td>\n",
       "      <td>0</td>\n",
       "      <td>0</td>\n",
       "      <td>0</td>\n",
       "      <td>0</td>\n",
       "      <td>0</td>\n",
       "      <td>0</td>\n",
       "      <td>0</td>\n",
       "      <td>...</td>\n",
       "      <td>0</td>\n",
       "      <td>0</td>\n",
       "      <td>0</td>\n",
       "      <td>0</td>\n",
       "      <td>0</td>\n",
       "      <td>0</td>\n",
       "      <td>0</td>\n",
       "      <td>0</td>\n",
       "      <td>0</td>\n",
       "      <td>1</td>\n",
       "    </tr>\n",
       "    <tr>\n",
       "      <th>4</th>\n",
       "      <td>27598</td>\n",
       "      <td>0</td>\n",
       "      <td>948000.0</td>\n",
       "      <td>0</td>\n",
       "      <td>0</td>\n",
       "      <td>0</td>\n",
       "      <td>0</td>\n",
       "      <td>0</td>\n",
       "      <td>1</td>\n",
       "      <td>0</td>\n",
       "      <td>...</td>\n",
       "      <td>0</td>\n",
       "      <td>0</td>\n",
       "      <td>0</td>\n",
       "      <td>0</td>\n",
       "      <td>0</td>\n",
       "      <td>0</td>\n",
       "      <td>0</td>\n",
       "      <td>0</td>\n",
       "      <td>0</td>\n",
       "      <td>1</td>\n",
       "    </tr>\n",
       "    <tr>\n",
       "      <th>...</th>\n",
       "      <td>...</td>\n",
       "      <td>...</td>\n",
       "      <td>...</td>\n",
       "      <td>...</td>\n",
       "      <td>...</td>\n",
       "      <td>...</td>\n",
       "      <td>...</td>\n",
       "      <td>...</td>\n",
       "      <td>...</td>\n",
       "      <td>...</td>\n",
       "      <td>...</td>\n",
       "      <td>...</td>\n",
       "      <td>...</td>\n",
       "      <td>...</td>\n",
       "      <td>...</td>\n",
       "      <td>...</td>\n",
       "      <td>...</td>\n",
       "      <td>...</td>\n",
       "      <td>...</td>\n",
       "      <td>...</td>\n",
       "      <td>...</td>\n",
       "    </tr>\n",
       "    <tr>\n",
       "      <th>5036</th>\n",
       "      <td>26000</td>\n",
       "      <td>0</td>\n",
       "      <td>324000.0</td>\n",
       "      <td>0</td>\n",
       "      <td>0</td>\n",
       "      <td>0</td>\n",
       "      <td>0</td>\n",
       "      <td>0</td>\n",
       "      <td>0</td>\n",
       "      <td>0</td>\n",
       "      <td>...</td>\n",
       "      <td>0</td>\n",
       "      <td>0</td>\n",
       "      <td>0</td>\n",
       "      <td>0</td>\n",
       "      <td>0</td>\n",
       "      <td>0</td>\n",
       "      <td>0</td>\n",
       "      <td>0</td>\n",
       "      <td>0</td>\n",
       "      <td>1</td>\n",
       "    </tr>\n",
       "    <tr>\n",
       "      <th>5037</th>\n",
       "      <td>65000</td>\n",
       "      <td>0</td>\n",
       "      <td>724000.0</td>\n",
       "      <td>0</td>\n",
       "      <td>0</td>\n",
       "      <td>0</td>\n",
       "      <td>0</td>\n",
       "      <td>0</td>\n",
       "      <td>0</td>\n",
       "      <td>0</td>\n",
       "      <td>...</td>\n",
       "      <td>0</td>\n",
       "      <td>0</td>\n",
       "      <td>0</td>\n",
       "      <td>0</td>\n",
       "      <td>0</td>\n",
       "      <td>1</td>\n",
       "      <td>0</td>\n",
       "      <td>0</td>\n",
       "      <td>0</td>\n",
       "      <td>0</td>\n",
       "    </tr>\n",
       "    <tr>\n",
       "      <th>5038</th>\n",
       "      <td>90000</td>\n",
       "      <td>2</td>\n",
       "      <td>424000.0</td>\n",
       "      <td>0</td>\n",
       "      <td>0</td>\n",
       "      <td>0</td>\n",
       "      <td>0</td>\n",
       "      <td>0</td>\n",
       "      <td>0</td>\n",
       "      <td>0</td>\n",
       "      <td>...</td>\n",
       "      <td>0</td>\n",
       "      <td>0</td>\n",
       "      <td>0</td>\n",
       "      <td>0</td>\n",
       "      <td>0</td>\n",
       "      <td>1</td>\n",
       "      <td>0</td>\n",
       "      <td>0</td>\n",
       "      <td>0</td>\n",
       "      <td>0</td>\n",
       "    </tr>\n",
       "    <tr>\n",
       "      <th>5039</th>\n",
       "      <td>58500</td>\n",
       "      <td>0</td>\n",
       "      <td>4600000.0</td>\n",
       "      <td>0</td>\n",
       "      <td>0</td>\n",
       "      <td>0</td>\n",
       "      <td>0</td>\n",
       "      <td>0</td>\n",
       "      <td>1</td>\n",
       "      <td>0</td>\n",
       "      <td>...</td>\n",
       "      <td>0</td>\n",
       "      <td>0</td>\n",
       "      <td>0</td>\n",
       "      <td>0</td>\n",
       "      <td>0</td>\n",
       "      <td>1</td>\n",
       "      <td>0</td>\n",
       "      <td>0</td>\n",
       "      <td>0</td>\n",
       "      <td>0</td>\n",
       "    </tr>\n",
       "    <tr>\n",
       "      <th>5040</th>\n",
       "      <td>16000</td>\n",
       "      <td>0</td>\n",
       "      <td>5100000.0</td>\n",
       "      <td>0</td>\n",
       "      <td>0</td>\n",
       "      <td>0</td>\n",
       "      <td>0</td>\n",
       "      <td>0</td>\n",
       "      <td>0</td>\n",
       "      <td>0</td>\n",
       "      <td>...</td>\n",
       "      <td>0</td>\n",
       "      <td>0</td>\n",
       "      <td>0</td>\n",
       "      <td>0</td>\n",
       "      <td>0</td>\n",
       "      <td>1</td>\n",
       "      <td>0</td>\n",
       "      <td>0</td>\n",
       "      <td>0</td>\n",
       "      <td>0</td>\n",
       "    </tr>\n",
       "  </tbody>\n",
       "</table>\n",
       "<p>5041 rows × 350 columns</p>\n",
       "</div>"
      ],
      "text/plain": [
       "      Driven_Kilometers  Number_Of_Owners      Price  Location_Agra  \\\n",
       "0                 46948                 0   745000.0              0   \n",
       "1                 72497                 2   825000.0              0   \n",
       "2                 21873                 0   489000.0              0   \n",
       "3                 17916                 0   500000.0              0   \n",
       "4                 27598                 0   948000.0              0   \n",
       "...                 ...               ...        ...            ...   \n",
       "5036              26000                 0   324000.0              0   \n",
       "5037              65000                 0   724000.0              0   \n",
       "5038              90000                 2   424000.0              0   \n",
       "5039              58500                 0  4600000.0              0   \n",
       "5040              16000                 0  5100000.0              0   \n",
       "\n",
       "      Location_Ahmedabad  Location_Akola  Location_Ambala Cantt  \\\n",
       "0                      0               0                      0   \n",
       "1                      0               0                      0   \n",
       "2                      0               0                      0   \n",
       "3                      0               0                      0   \n",
       "4                      0               0                      0   \n",
       "...                  ...             ...                    ...   \n",
       "5036                   0               0                      0   \n",
       "5037                   0               0                      0   \n",
       "5038                   0               0                      0   \n",
       "5039                   0               0                      0   \n",
       "5040                   0               0                      0   \n",
       "\n",
       "      Location_Aurangabad  Location_Bangalore  Location_Bhopal  ...  \\\n",
       "0                       0                   0                0  ...   \n",
       "1                       0                   1                0  ...   \n",
       "2                       0                   1                0  ...   \n",
       "3                       0                   0                0  ...   \n",
       "4                       0                   1                0  ...   \n",
       "...                   ...                 ...              ...  ...   \n",
       "5036                    0                   0                0  ...   \n",
       "5037                    0                   0                0  ...   \n",
       "5038                    0                   0                0  ...   \n",
       "5039                    0                   1                0  ...   \n",
       "5040                    0                   0                0  ...   \n",
       "\n",
       "      Model_e2o Plus  Model_i10  Model_i20  Model_i20 Active  Fuel_CNG  \\\n",
       "0                  0          0          0                 0         0   \n",
       "1                  0          0          0                 0         0   \n",
       "2                  0          0          0                 0         0   \n",
       "3                  0          0          0                 0         0   \n",
       "4                  0          0          0                 0         0   \n",
       "...              ...        ...        ...               ...       ...   \n",
       "5036               0          0          0                 0         0   \n",
       "5037               0          0          0                 0         0   \n",
       "5038               0          0          0                 0         0   \n",
       "5039               0          0          0                 0         0   \n",
       "5040               0          0          0                 0         0   \n",
       "\n",
       "      Fuel_Diesel  Fuel_Electric  Fuel_Hybrid  Fuel_LPG  Fuel_Petrol  \n",
       "0               0              0            0         0            1  \n",
       "1               0              0            0         0            1  \n",
       "2               0              0            0         0            1  \n",
       "3               0              0            0         0            1  \n",
       "4               0              0            0         0            1  \n",
       "...           ...            ...          ...       ...          ...  \n",
       "5036            0              0            0         0            1  \n",
       "5037            1              0            0         0            0  \n",
       "5038            1              0            0         0            0  \n",
       "5039            1              0            0         0            0  \n",
       "5040            1              0            0         0            0  \n",
       "\n",
       "[5041 rows x 350 columns]"
      ]
     },
     "execution_count": 40,
     "metadata": {},
     "output_type": "execute_result"
    }
   ],
   "source": [
    "df_new"
   ]
  },
  {
   "cell_type": "code",
   "execution_count": 41,
   "id": "30698715",
   "metadata": {
    "scrolled": true
   },
   "outputs": [
    {
     "data": {
      "text/plain": [
       "(5041, 350)"
      ]
     },
     "execution_count": 41,
     "metadata": {},
     "output_type": "execute_result"
    }
   ],
   "source": [
    "#now we have 350 columns after enoding object columns\n",
    "df_new.shape"
   ]
  },
  {
   "cell_type": "markdown",
   "id": "ae3c6ac3",
   "metadata": {},
   "source": [
    "## Scaling the Data"
   ]
  },
  {
   "cell_type": "code",
   "execution_count": 42,
   "id": "fe877217",
   "metadata": {},
   "outputs": [],
   "source": [
    "#lets split our x and y column before scaling\n",
    "#x and y spitting\n",
    "Y = df_new['Price']\n",
    "X = df_new.drop('Price',axis = 1)"
   ]
  },
  {
   "cell_type": "code",
   "execution_count": 43,
   "id": "10c2bef5",
   "metadata": {},
   "outputs": [
    {
     "data": {
      "text/html": [
       "<div>\n",
       "<style scoped>\n",
       "    .dataframe tbody tr th:only-of-type {\n",
       "        vertical-align: middle;\n",
       "    }\n",
       "\n",
       "    .dataframe tbody tr th {\n",
       "        vertical-align: top;\n",
       "    }\n",
       "\n",
       "    .dataframe thead th {\n",
       "        text-align: right;\n",
       "    }\n",
       "</style>\n",
       "<table border=\"1\" class=\"dataframe\">\n",
       "  <thead>\n",
       "    <tr style=\"text-align: right;\">\n",
       "      <th></th>\n",
       "      <th>Driven_Kilometers</th>\n",
       "      <th>Number_Of_Owners</th>\n",
       "      <th>Location_Agra</th>\n",
       "      <th>Location_Ahmedabad</th>\n",
       "      <th>Location_Akola</th>\n",
       "      <th>Location_Ambala Cantt</th>\n",
       "      <th>Location_Aurangabad</th>\n",
       "      <th>Location_Bangalore</th>\n",
       "      <th>Location_Bhopal</th>\n",
       "      <th>Location_Bhubaneswar</th>\n",
       "      <th>...</th>\n",
       "      <th>Model_e2o Plus</th>\n",
       "      <th>Model_i10</th>\n",
       "      <th>Model_i20</th>\n",
       "      <th>Model_i20 Active</th>\n",
       "      <th>Fuel_CNG</th>\n",
       "      <th>Fuel_Diesel</th>\n",
       "      <th>Fuel_Electric</th>\n",
       "      <th>Fuel_Hybrid</th>\n",
       "      <th>Fuel_LPG</th>\n",
       "      <th>Fuel_Petrol</th>\n",
       "    </tr>\n",
       "  </thead>\n",
       "  <tbody>\n",
       "    <tr>\n",
       "      <th>0</th>\n",
       "      <td>-0.190069</td>\n",
       "      <td>-0.494084</td>\n",
       "      <td>-0.067702</td>\n",
       "      <td>-0.242968</td>\n",
       "      <td>-0.042291</td>\n",
       "      <td>-0.042291</td>\n",
       "      <td>-0.066207</td>\n",
       "      <td>-0.378949</td>\n",
       "      <td>-0.105028</td>\n",
       "      <td>-0.046764</td>\n",
       "      <td>...</td>\n",
       "      <td>-0.014086</td>\n",
       "      <td>-0.137846</td>\n",
       "      <td>-0.10308</td>\n",
       "      <td>-0.05463</td>\n",
       "      <td>-0.105989</td>\n",
       "      <td>-0.98758</td>\n",
       "      <td>-0.024402</td>\n",
       "      <td>-0.019922</td>\n",
       "      <td>-0.048848</td>\n",
       "      <td>1.016603</td>\n",
       "    </tr>\n",
       "    <tr>\n",
       "      <th>1</th>\n",
       "      <td>0.506160</td>\n",
       "      <td>1.800415</td>\n",
       "      <td>-0.067702</td>\n",
       "      <td>-0.242968</td>\n",
       "      <td>-0.042291</td>\n",
       "      <td>-0.042291</td>\n",
       "      <td>-0.066207</td>\n",
       "      <td>2.638876</td>\n",
       "      <td>-0.105028</td>\n",
       "      <td>-0.046764</td>\n",
       "      <td>...</td>\n",
       "      <td>-0.014086</td>\n",
       "      <td>-0.137846</td>\n",
       "      <td>-0.10308</td>\n",
       "      <td>-0.05463</td>\n",
       "      <td>-0.105989</td>\n",
       "      <td>-0.98758</td>\n",
       "      <td>-0.024402</td>\n",
       "      <td>-0.019922</td>\n",
       "      <td>-0.048848</td>\n",
       "      <td>1.016603</td>\n",
       "    </tr>\n",
       "    <tr>\n",
       "      <th>2</th>\n",
       "      <td>-0.873380</td>\n",
       "      <td>-0.494084</td>\n",
       "      <td>-0.067702</td>\n",
       "      <td>-0.242968</td>\n",
       "      <td>-0.042291</td>\n",
       "      <td>-0.042291</td>\n",
       "      <td>-0.066207</td>\n",
       "      <td>2.638876</td>\n",
       "      <td>-0.105028</td>\n",
       "      <td>-0.046764</td>\n",
       "      <td>...</td>\n",
       "      <td>-0.014086</td>\n",
       "      <td>-0.137846</td>\n",
       "      <td>-0.10308</td>\n",
       "      <td>-0.05463</td>\n",
       "      <td>-0.105989</td>\n",
       "      <td>-0.98758</td>\n",
       "      <td>-0.024402</td>\n",
       "      <td>-0.019922</td>\n",
       "      <td>-0.048848</td>\n",
       "      <td>1.016603</td>\n",
       "    </tr>\n",
       "    <tr>\n",
       "      <th>3</th>\n",
       "      <td>-0.981211</td>\n",
       "      <td>-0.494084</td>\n",
       "      <td>-0.067702</td>\n",
       "      <td>-0.242968</td>\n",
       "      <td>-0.042291</td>\n",
       "      <td>-0.042291</td>\n",
       "      <td>-0.066207</td>\n",
       "      <td>-0.378949</td>\n",
       "      <td>-0.105028</td>\n",
       "      <td>-0.046764</td>\n",
       "      <td>...</td>\n",
       "      <td>-0.014086</td>\n",
       "      <td>-0.137846</td>\n",
       "      <td>-0.10308</td>\n",
       "      <td>-0.05463</td>\n",
       "      <td>-0.105989</td>\n",
       "      <td>-0.98758</td>\n",
       "      <td>-0.024402</td>\n",
       "      <td>-0.019922</td>\n",
       "      <td>-0.048848</td>\n",
       "      <td>1.016603</td>\n",
       "    </tr>\n",
       "    <tr>\n",
       "      <th>4</th>\n",
       "      <td>-0.717370</td>\n",
       "      <td>-0.494084</td>\n",
       "      <td>-0.067702</td>\n",
       "      <td>-0.242968</td>\n",
       "      <td>-0.042291</td>\n",
       "      <td>-0.042291</td>\n",
       "      <td>-0.066207</td>\n",
       "      <td>2.638876</td>\n",
       "      <td>-0.105028</td>\n",
       "      <td>-0.046764</td>\n",
       "      <td>...</td>\n",
       "      <td>-0.014086</td>\n",
       "      <td>-0.137846</td>\n",
       "      <td>-0.10308</td>\n",
       "      <td>-0.05463</td>\n",
       "      <td>-0.105989</td>\n",
       "      <td>-0.98758</td>\n",
       "      <td>-0.024402</td>\n",
       "      <td>-0.019922</td>\n",
       "      <td>-0.048848</td>\n",
       "      <td>1.016603</td>\n",
       "    </tr>\n",
       "  </tbody>\n",
       "</table>\n",
       "<p>5 rows × 349 columns</p>\n",
       "</div>"
      ],
      "text/plain": [
       "   Driven_Kilometers  Number_Of_Owners  Location_Agra  Location_Ahmedabad  \\\n",
       "0          -0.190069         -0.494084      -0.067702           -0.242968   \n",
       "1           0.506160          1.800415      -0.067702           -0.242968   \n",
       "2          -0.873380         -0.494084      -0.067702           -0.242968   \n",
       "3          -0.981211         -0.494084      -0.067702           -0.242968   \n",
       "4          -0.717370         -0.494084      -0.067702           -0.242968   \n",
       "\n",
       "   Location_Akola  Location_Ambala Cantt  Location_Aurangabad  \\\n",
       "0       -0.042291              -0.042291            -0.066207   \n",
       "1       -0.042291              -0.042291            -0.066207   \n",
       "2       -0.042291              -0.042291            -0.066207   \n",
       "3       -0.042291              -0.042291            -0.066207   \n",
       "4       -0.042291              -0.042291            -0.066207   \n",
       "\n",
       "   Location_Bangalore  Location_Bhopal  Location_Bhubaneswar  ...  \\\n",
       "0           -0.378949        -0.105028             -0.046764  ...   \n",
       "1            2.638876        -0.105028             -0.046764  ...   \n",
       "2            2.638876        -0.105028             -0.046764  ...   \n",
       "3           -0.378949        -0.105028             -0.046764  ...   \n",
       "4            2.638876        -0.105028             -0.046764  ...   \n",
       "\n",
       "   Model_e2o Plus  Model_i10  Model_i20  Model_i20 Active  Fuel_CNG  \\\n",
       "0       -0.014086  -0.137846   -0.10308          -0.05463 -0.105989   \n",
       "1       -0.014086  -0.137846   -0.10308          -0.05463 -0.105989   \n",
       "2       -0.014086  -0.137846   -0.10308          -0.05463 -0.105989   \n",
       "3       -0.014086  -0.137846   -0.10308          -0.05463 -0.105989   \n",
       "4       -0.014086  -0.137846   -0.10308          -0.05463 -0.105989   \n",
       "\n",
       "   Fuel_Diesel  Fuel_Electric  Fuel_Hybrid  Fuel_LPG  Fuel_Petrol  \n",
       "0     -0.98758      -0.024402    -0.019922 -0.048848     1.016603  \n",
       "1     -0.98758      -0.024402    -0.019922 -0.048848     1.016603  \n",
       "2     -0.98758      -0.024402    -0.019922 -0.048848     1.016603  \n",
       "3     -0.98758      -0.024402    -0.019922 -0.048848     1.016603  \n",
       "4     -0.98758      -0.024402    -0.019922 -0.048848     1.016603  \n",
       "\n",
       "[5 rows x 349 columns]"
      ]
     },
     "execution_count": 43,
     "metadata": {},
     "output_type": "execute_result"
    }
   ],
   "source": [
    "#Lets scale the data using standard scaler\n",
    "scaler = StandardScaler()\n",
    "scaled_X = pd.DataFrame(scaler.fit_transform(X),columns= X.columns)\n",
    "scaled_X.head()"
   ]
  },
  {
   "cell_type": "code",
   "execution_count": 44,
   "id": "9604ba0a",
   "metadata": {},
   "outputs": [],
   "source": [
    "#now our data is scaled using standard scaler"
   ]
  },
  {
   "cell_type": "markdown",
   "id": "63ee61ea",
   "metadata": {},
   "source": [
    "## PCA (Principal Component Analysis)"
   ]
  },
  {
   "cell_type": "code",
   "execution_count": 45,
   "id": "887a6d49",
   "metadata": {},
   "outputs": [],
   "source": [
    "#we need to use pca becuase we have 227 columns in this dataset which is very high"
   ]
  },
  {
   "cell_type": "code",
   "execution_count": 46,
   "id": "c6160dd5",
   "metadata": {},
   "outputs": [],
   "source": [
    "#we should always use scaled data for performing the PCA"
   ]
  },
  {
   "cell_type": "code",
   "execution_count": 47,
   "id": "226f3f58",
   "metadata": {},
   "outputs": [
    {
     "data": {
      "text/plain": [
       "(5041, 349)"
      ]
     },
     "execution_count": 47,
     "metadata": {},
     "output_type": "execute_result"
    }
   ],
   "source": [
    "#we have 349 columns excluding target variable\n",
    "scaled_X.shape"
   ]
  },
  {
   "cell_type": "code",
   "execution_count": 48,
   "id": "d2e47d34",
   "metadata": {},
   "outputs": [],
   "source": [
    "#first lets TEST out percentage of data that we will obtain after PCA\n",
    "testpca = PCA()\n",
    "test_x = testpca.fit(scaled_X)"
   ]
  },
  {
   "cell_type": "code",
   "execution_count": 49,
   "id": "180b6d75",
   "metadata": {},
   "outputs": [
    {
     "data": {
      "text/plain": [
       "array([  0.97227755,   1.7194573 ,   2.42354183,   3.0844121 ,\n",
       "         3.73674975,   4.3756313 ,   5.00580946,   5.63203887,\n",
       "         6.25279581,   6.86504671,   7.47563602,   8.08278173,\n",
       "         8.68631975,   9.28698753,   9.88703572,  10.48494441,\n",
       "        11.08121639,  11.67488314,  12.26760044,  12.8593251 ,\n",
       "        13.45050409,  14.0411124 ,  14.6300365 ,  15.21645567,\n",
       "        15.80119184,  16.38538602,  16.96758254,  17.54936314,\n",
       "        18.13019525,  18.70942366,  19.28608057,  19.86210958,\n",
       "        20.43656039,  21.01004554,  21.58338928,  22.10868445,\n",
       "        22.63077689,  23.10676311,  23.56232396,  24.01272634,\n",
       "        24.46062044,  24.89763689,  25.3306872 ,  25.75910068,\n",
       "        26.18355803,  26.60529497,  27.02313732,  27.43510646,\n",
       "        27.8430256 ,  28.24847108,  28.6493693 ,  29.04697901,\n",
       "        29.44060438,  29.83319742,  30.22230174,  30.60642827,\n",
       "        30.99031712,  31.37182572,  31.75088971,  32.12652022,\n",
       "        32.50116506,  32.87292847,  33.24140581,  33.60966854,\n",
       "        33.97411623,  34.3369514 ,  34.69783289,  35.05676268,\n",
       "        35.41391164,  35.77013649,  36.12412679,  36.47690926,\n",
       "        36.82678249,  37.17393541,  37.5199764 ,  37.86516643,\n",
       "        38.20849603,  38.54958973,  38.88896848,  39.22444182,\n",
       "        39.55894957,  39.89207806,  40.22406025,  40.55406164,\n",
       "        40.88370317,  41.21149914,  41.53900154,  41.86506297,\n",
       "        42.19011449,  42.51370196,  42.83628353,  43.15704398,\n",
       "        43.47684522,  43.79579444,  44.1139637 ,  44.4295076 ,\n",
       "        44.74210736,  45.0544786 ,  45.36507912,  45.67515015,\n",
       "        45.98336249,  46.29118786,  46.59823912,  46.90435311,\n",
       "        47.2071496 ,  47.50984436,  47.81193048,  48.11310868,\n",
       "        48.41278482,  48.71216301,  49.01044702,  49.30732628,\n",
       "        49.60226114,  49.89368133,  50.18442852,  50.4749345 ,\n",
       "        50.76526859,  51.05536379,  51.34530145,  51.63476996,\n",
       "        51.92418755,  52.21348155,  52.50241993,  52.79123525,\n",
       "        53.07992035,  53.36846494,  53.6569865 ,  53.9454058 ,\n",
       "        54.23375183,  54.52194297,  54.81008858,  55.09816677,\n",
       "        55.3861393 ,  55.67410491,  55.9619876 ,  56.24982801,\n",
       "        56.53763896,  56.82539565,  57.11310307,  57.4007866 ,\n",
       "        57.68841054,  57.97598789,  58.26353077,  58.5510498 ,\n",
       "        58.83853294,  59.12600302,  59.41343163,  59.70083318,\n",
       "        59.98820921,  60.27554959,  60.56287647,  60.85018474,\n",
       "        61.13742444,  61.42462929,  61.71181091,  61.99897902,\n",
       "        62.2861409 ,  62.5732831 ,  62.86040603,  63.1475176 ,\n",
       "        63.43461251,  63.72167783,  64.00874132,  64.29578628,\n",
       "        64.58281087,  64.86982658,  65.15683898,  65.44382709,\n",
       "        65.73080545,  66.01777114,  66.30471859,  66.59165839,\n",
       "        66.87858675,  67.16550041,  67.45240997,  67.73931276,\n",
       "        68.02620823,  68.31309811,  68.59997588,  68.88684535,\n",
       "        69.17370551,  69.46054662,  69.74738173,  70.03420151,\n",
       "        70.32101398,  70.60782013,  70.89461914,  71.18141246,\n",
       "        71.46819988,  71.75497692,  72.04174889,  72.32851392,\n",
       "        72.61527496,  72.90202876,  73.1887763 ,  73.47551486,\n",
       "        73.76225122,  74.04898122,  74.33570373,  74.62241935,\n",
       "        74.90912555,  75.19582738,  75.48252591,  75.76921829,\n",
       "        76.0559084 ,  76.34258809,  76.62926384,  76.9159369 ,\n",
       "        77.20260238,  77.4892618 ,  77.77591788,  78.06257269,\n",
       "        78.34922345,  78.63587015,  78.92251369,  79.20915188,\n",
       "        79.49578551,  79.78241517,  80.06903856,  80.35565939,\n",
       "        80.64227702,  80.92889114,  81.2155042 ,  81.50211462,\n",
       "        81.78872095,  82.0753246 ,  82.36192611,  82.64852554,\n",
       "        82.935122  ,  83.22171642,  83.50830732,  83.78646879,\n",
       "        84.06227777,  84.3365089 ,  84.60907387,  84.87910585,\n",
       "        85.14877759,  85.41597494,  85.68064148,  85.94442401,\n",
       "        86.20636656,  86.46747402,  86.72818011,  86.98655285,\n",
       "        87.24408578,  87.5007564 ,  87.75529407,  88.00951252,\n",
       "        88.2618732 ,  88.51205317,  88.76103959,  89.00839485,\n",
       "        89.25503921,  89.50010964,  89.74438079,  89.98659601,\n",
       "        90.22779245,  90.46865966,  90.70822791,  90.94711906,\n",
       "        91.18249207,  91.41677037,  91.64938946,  91.88122994,\n",
       "        92.11115606,  92.34000684,  92.56831903,  92.79545758,\n",
       "        93.02053138,  93.24234225,  93.46367418,  93.6837979 ,\n",
       "        93.90286068,  94.11995714,  94.33497961,  94.54647783,\n",
       "        94.75763837,  94.96764376,  95.17737614,  95.38214012,\n",
       "        95.58617686,  95.78752388,  95.98737795,  96.18548625,\n",
       "        96.37976628,  96.57157863,  96.76181443,  96.94971386,\n",
       "        97.1364101 ,  97.31995924,  97.50050532,  97.67946196,\n",
       "        97.85552978,  98.03047705,  98.20194965,  98.37202654,\n",
       "        98.53644182,  98.69839647,  98.85289696,  99.00362154,\n",
       "        99.14891088,  99.28216463,  99.41137005,  99.53754013,\n",
       "        99.65486788,  99.7685289 ,  99.87537381,  99.94874268,\n",
       "       100.        , 100.        , 100.        , 100.        ,\n",
       "       100.        , 100.        , 100.        , 100.        ,\n",
       "       100.        , 100.        , 100.        , 100.        ,\n",
       "       100.        , 100.        , 100.        , 100.        ,\n",
       "       100.        , 100.        , 100.        , 100.        ,\n",
       "       100.        , 100.        , 100.        , 100.        ,\n",
       "       100.        , 100.        , 100.        , 100.        ,\n",
       "       100.        , 100.        , 100.        , 100.        ,\n",
       "       100.        , 100.        , 100.        , 100.        ,\n",
       "       100.        , 100.        , 100.        , 100.        ,\n",
       "       100.        ])"
      ]
     },
     "execution_count": 49,
     "metadata": {},
     "output_type": "execute_result"
    }
   ],
   "source": [
    "#now lets out cumulative score \n",
    "cum_score = np.cumsum(test_x.explained_variance_ratio_)*100\n",
    "cum_score"
   ]
  },
  {
   "cell_type": "code",
   "execution_count": 50,
   "id": "ca6b7144",
   "metadata": {},
   "outputs": [
    {
     "name": "stdout",
     "output_type": "stream",
     "text": [
      "Number of components expaining 95% of variance is : 278\n"
     ]
    }
   ],
   "source": [
    "#lets check how many columns gives 95% of variance\n",
    "s = np.argmax(cum_score > 95)\n",
    "print(\"Number of components expaining 95% of variance is :\", s)"
   ]
  },
  {
   "cell_type": "code",
   "execution_count": 51,
   "id": "4c936e3c",
   "metadata": {},
   "outputs": [
    {
     "name": "stdout",
     "output_type": "stream",
     "text": [
      "Number of components expaining 95% of variance is : 256\n"
     ]
    }
   ],
   "source": [
    "#lets check how many columns gives 95% of variance\n",
    "s = np.argmax(cum_score > 90)\n",
    "print(\"Number of components expaining 95% of variance is :\", s)"
   ]
  },
  {
   "cell_type": "code",
   "execution_count": 52,
   "id": "22c6150c",
   "metadata": {},
   "outputs": [
    {
     "name": "stdout",
     "output_type": "stream",
     "text": [
      "Number of components expaining 95% of variance is : 236\n"
     ]
    }
   ],
   "source": [
    "#lets check how many columns gives 95% of variance\n",
    "s = np.argmax(cum_score > 85)\n",
    "print(\"Number of components expaining 95% of variance is :\", s)"
   ]
  },
  {
   "cell_type": "code",
   "execution_count": 53,
   "id": "ff06d66a",
   "metadata": {},
   "outputs": [],
   "source": [
    "#now we have seen that how much data will be lost based number of columns"
   ]
  },
  {
   "cell_type": "code",
   "execution_count": 54,
   "id": "0ed5f401",
   "metadata": {},
   "outputs": [
    {
     "data": {
      "image/png": "[encoded data removed]",
      "text/plain": [
       "<Figure size 432x288 with 1 Axes>"
      ]
     },
     "metadata": {
      "needs_background": "light"
     },
     "output_type": "display_data"
    }
   ],
   "source": [
    "#lets plot the graph for graphical understanding\n",
    "plt.ylabel('Cumulative Explained Ratio')\n",
    "plt.xlabel('Principle Components')\n",
    "\n",
    "plt.axvline(x = s, color = 'k', linestyle = '--')\n",
    "plt.axhline(y = 90, color = 'k', linestyle = '--')\n",
    "\n",
    "plt.plot(cum_score)\n",
    "plt.show()"
   ]
  },
  {
   "cell_type": "code",
   "execution_count": 55,
   "id": "93367d9a",
   "metadata": {},
   "outputs": [],
   "source": [
    "#lets perform the PCA with 256 columns which is 90% of our data\n",
    "Final_pca = PCA(n_components= 256)\n",
    "\n",
    "pca_x = pd.DataFrame(Final_pca.fit_transform(scaled_X))"
   ]
  },
  {
   "cell_type": "code",
   "execution_count": 56,
   "id": "a02e6436",
   "metadata": {},
   "outputs": [
    {
     "data": {
      "text/html": [
       "<div>\n",
       "<style scoped>\n",
       "    .dataframe tbody tr th:only-of-type {\n",
       "        vertical-align: middle;\n",
       "    }\n",
       "\n",
       "    .dataframe tbody tr th {\n",
       "        vertical-align: top;\n",
       "    }\n",
       "\n",
       "    .dataframe thead th {\n",
       "        text-align: right;\n",
       "    }\n",
       "</style>\n",
       "<table border=\"1\" class=\"dataframe\">\n",
       "  <thead>\n",
       "    <tr style=\"text-align: right;\">\n",
       "      <th></th>\n",
       "      <th>0</th>\n",
       "      <th>1</th>\n",
       "      <th>2</th>\n",
       "      <th>3</th>\n",
       "      <th>4</th>\n",
       "      <th>5</th>\n",
       "      <th>6</th>\n",
       "      <th>7</th>\n",
       "      <th>8</th>\n",
       "      <th>9</th>\n",
       "      <th>...</th>\n",
       "      <th>246</th>\n",
       "      <th>247</th>\n",
       "      <th>248</th>\n",
       "      <th>249</th>\n",
       "      <th>250</th>\n",
       "      <th>251</th>\n",
       "      <th>252</th>\n",
       "      <th>253</th>\n",
       "      <th>254</th>\n",
       "      <th>255</th>\n",
       "    </tr>\n",
       "  </thead>\n",
       "  <tbody>\n",
       "    <tr>\n",
       "      <th>0</th>\n",
       "      <td>-1.961578</td>\n",
       "      <td>-0.816867</td>\n",
       "      <td>-1.635725</td>\n",
       "      <td>0.668263</td>\n",
       "      <td>0.017001</td>\n",
       "      <td>1.961914</td>\n",
       "      <td>0.056745</td>\n",
       "      <td>-0.326386</td>\n",
       "      <td>-2.133220</td>\n",
       "      <td>0.560345</td>\n",
       "      <td>...</td>\n",
       "      <td>-0.008917</td>\n",
       "      <td>0.686585</td>\n",
       "      <td>0.196566</td>\n",
       "      <td>0.293969</td>\n",
       "      <td>-0.014939</td>\n",
       "      <td>0.044884</td>\n",
       "      <td>-0.398299</td>\n",
       "      <td>0.218034</td>\n",
       "      <td>-0.403103</td>\n",
       "      <td>-0.041673</td>\n",
       "    </tr>\n",
       "    <tr>\n",
       "      <th>1</th>\n",
       "      <td>0.156708</td>\n",
       "      <td>-1.793708</td>\n",
       "      <td>-0.900029</td>\n",
       "      <td>0.777790</td>\n",
       "      <td>1.842743</td>\n",
       "      <td>1.818019</td>\n",
       "      <td>-1.009186</td>\n",
       "      <td>0.705025</td>\n",
       "      <td>1.423400</td>\n",
       "      <td>-0.329351</td>\n",
       "      <td>...</td>\n",
       "      <td>-0.382952</td>\n",
       "      <td>0.268933</td>\n",
       "      <td>0.050812</td>\n",
       "      <td>-0.009190</td>\n",
       "      <td>-0.613916</td>\n",
       "      <td>0.899397</td>\n",
       "      <td>-0.487068</td>\n",
       "      <td>0.763255</td>\n",
       "      <td>0.346649</td>\n",
       "      <td>-0.356166</td>\n",
       "    </tr>\n",
       "    <tr>\n",
       "      <th>2</th>\n",
       "      <td>-2.108551</td>\n",
       "      <td>-0.718802</td>\n",
       "      <td>-1.854647</td>\n",
       "      <td>0.653948</td>\n",
       "      <td>-0.534273</td>\n",
       "      <td>1.691129</td>\n",
       "      <td>0.045022</td>\n",
       "      <td>-0.689316</td>\n",
       "      <td>-1.721662</td>\n",
       "      <td>0.270107</td>\n",
       "      <td>...</td>\n",
       "      <td>-0.394760</td>\n",
       "      <td>-0.792450</td>\n",
       "      <td>-0.658665</td>\n",
       "      <td>-0.755958</td>\n",
       "      <td>1.680758</td>\n",
       "      <td>-0.769286</td>\n",
       "      <td>-1.381705</td>\n",
       "      <td>-0.430335</td>\n",
       "      <td>0.466806</td>\n",
       "      <td>0.459098</td>\n",
       "    </tr>\n",
       "    <tr>\n",
       "      <th>3</th>\n",
       "      <td>-2.323096</td>\n",
       "      <td>1.187118</td>\n",
       "      <td>-0.847902</td>\n",
       "      <td>-2.716626</td>\n",
       "      <td>0.557048</td>\n",
       "      <td>-0.872897</td>\n",
       "      <td>-0.109530</td>\n",
       "      <td>1.428647</td>\n",
       "      <td>0.439450</td>\n",
       "      <td>-0.214226</td>\n",
       "      <td>...</td>\n",
       "      <td>-0.410660</td>\n",
       "      <td>-0.630556</td>\n",
       "      <td>-0.081171</td>\n",
       "      <td>-0.920076</td>\n",
       "      <td>0.231725</td>\n",
       "      <td>-0.178097</td>\n",
       "      <td>0.122858</td>\n",
       "      <td>0.725476</td>\n",
       "      <td>0.028372</td>\n",
       "      <td>0.765256</td>\n",
       "    </tr>\n",
       "    <tr>\n",
       "      <th>4</th>\n",
       "      <td>-1.586166</td>\n",
       "      <td>0.263758</td>\n",
       "      <td>-1.006465</td>\n",
       "      <td>-2.504544</td>\n",
       "      <td>0.762448</td>\n",
       "      <td>-1.067600</td>\n",
       "      <td>-0.009544</td>\n",
       "      <td>0.846566</td>\n",
       "      <td>0.479966</td>\n",
       "      <td>-0.442080</td>\n",
       "      <td>...</td>\n",
       "      <td>-0.221139</td>\n",
       "      <td>-0.008981</td>\n",
       "      <td>0.679643</td>\n",
       "      <td>0.192148</td>\n",
       "      <td>0.472385</td>\n",
       "      <td>-0.033833</td>\n",
       "      <td>-0.468689</td>\n",
       "      <td>0.167268</td>\n",
       "      <td>-0.011820</td>\n",
       "      <td>-0.274452</td>\n",
       "    </tr>\n",
       "  </tbody>\n",
       "</table>\n",
       "<p>5 rows × 256 columns</p>\n",
       "</div>"
      ],
      "text/plain": [
       "        0         1         2         3         4         5         6    \\\n",
       "0 -1.961578 -0.816867 -1.635725  0.668263  0.017001  1.961914  0.056745   \n",
       "1  0.156708 -1.793708 -0.900029  0.777790  1.842743  1.818019 -1.009186   \n",
       "2 -2.108551 -0.718802 -1.854647  0.653948 -0.534273  1.691129  0.045022   \n",
       "3 -2.323096  1.187118 -0.847902 -2.716626  0.557048 -0.872897 -0.109530   \n",
       "4 -1.586166  0.263758 -1.006465 -2.504544  0.762448 -1.067600 -0.009544   \n",
       "\n",
       "        7         8         9    ...       246       247       248       249  \\\n",
       "0 -0.326386 -2.133220  0.560345  ... -0.008917  0.686585  0.196566  0.293969   \n",
       "1  0.705025  1.423400 -0.329351  ... -0.382952  0.268933  0.050812 -0.009190   \n",
       "2 -0.689316 -1.721662  0.270107  ... -0.394760 -0.792450 -0.658665 -0.755958   \n",
       "3  1.428647  0.439450 -0.214226  ... -0.410660 -0.630556 -0.081171 -0.920076   \n",
       "4  0.846566  0.479966 -0.442080  ... -0.221139 -0.008981  0.679643  0.192148   \n",
       "\n",
       "        250       251       252       253       254       255  \n",
       "0 -0.014939  0.044884 -0.398299  0.218034 -0.403103 -0.041673  \n",
       "1 -0.613916  0.899397 -0.487068  0.763255  0.346649 -0.356166  \n",
       "2  1.680758 -0.769286 -1.381705 -0.430335  0.466806  0.459098  \n",
       "3  0.231725 -0.178097  0.122858  0.725476  0.028372  0.765256  \n",
       "4  0.472385 -0.033833 -0.468689  0.167268 -0.011820 -0.274452  \n",
       "\n",
       "[5 rows x 256 columns]"
      ]
     },
     "execution_count": 56,
     "metadata": {},
     "output_type": "execute_result"
    }
   ],
   "source": [
    "#lets create a datafram\n",
    "pca_x.head()"
   ]
  },
  {
   "cell_type": "code",
   "execution_count": 57,
   "id": "f3037d60",
   "metadata": {},
   "outputs": [
    {
     "name": "stdout",
     "output_type": "stream",
     "text": [
      "variance is : 0.893080666060027\n"
     ]
    }
   ],
   "source": [
    "print(\"variance is : {}\".format(np.sum(Final_pca.explained_variance_ratio_)))"
   ]
  },
  {
   "cell_type": "code",
   "execution_count": 58,
   "id": "7c94f685",
   "metadata": {},
   "outputs": [
    {
     "data": {
      "text/plain": [
       "(5041, 256)"
      ]
     },
     "execution_count": 58,
     "metadata": {},
     "output_type": "execute_result"
    }
   ],
   "source": [
    "pca_x.shape"
   ]
  },
  {
   "cell_type": "markdown",
   "id": "b2328d0f",
   "metadata": {},
   "source": [
    "## Best random state"
   ]
  },
  {
   "cell_type": "code",
   "execution_count": 59,
   "id": "204191e1",
   "metadata": {},
   "outputs": [
    {
     "name": "stdout",
     "output_type": "stream",
     "text": [
      "Best r2 score is 0.7557804863992295 on random state 45\n"
     ]
    }
   ],
   "source": [
    "max_r2score = 0\n",
    "rand_state = 0\n",
    "for i in range(1,200):\n",
    "    x_train,x_test,y_train,y_test = train_test_split(pca_x,Y,test_size=.22,random_state= i )\n",
    "    lr = LinearRegression()\n",
    "    lr.fit(x_train,y_train)\n",
    "    pred = lr.predict(x_test)\n",
    "    r2 = r2_score(y_test,pred)\n",
    "    if r2 > max_r2score:\n",
    "        max_r2score = r2\n",
    "        rand_state = i\n",
    "print('Best r2 score is {} on random state {}'.format(max_r2score,rand_state))"
   ]
  },
  {
   "cell_type": "code",
   "execution_count": 60,
   "id": "bd563315",
   "metadata": {},
   "outputs": [
    {
     "name": "stdout",
     "output_type": "stream",
     "text": [
      "We got our best randoms sate as : 45\n"
     ]
    }
   ],
   "source": [
    "print('We got our best randoms sate as :',rand_state)"
   ]
  },
  {
   "cell_type": "code",
   "execution_count": 61,
   "id": "0615e24a",
   "metadata": {},
   "outputs": [],
   "source": [
    "#Lets split for train and test data\n",
    "x_train,x_test,y_train,y_test = train_test_split(pca_x,Y,test_size=.22,random_state= rand_state )"
   ]
  },
  {
   "cell_type": "code",
   "execution_count": 62,
   "id": "38c7727b",
   "metadata": {},
   "outputs": [
    {
     "name": "stdout",
     "output_type": "stream",
     "text": [
      "r2_score of linear refression is : 0.7557804863992295\n",
      "Error :\n",
      "mean absolute error : 1401450.7497591735\n",
      "mean squared error :  34264005951725.082\n",
      "root mean squared error : 5853546.442262595\n"
     ]
    }
   ],
   "source": [
    "lrg = LinearRegression()\n",
    "lrg.fit(x_train,y_train)\n",
    "pr =lrg.predict(x_test)\n",
    "print(\"r2_score of linear refression is :\", r2_score(y_test,pr))\n",
    "print('Error :')\n",
    "print('mean absolute error :',mean_absolute_error(y_test,pred))\n",
    "print('mean squared error : ', mean_squared_error(y_test,pred))\n",
    "print('root mean squared error :',np.sqrt(mean_squared_error(y_test,pred)))"
   ]
  },
  {
   "cell_type": "markdown",
   "id": "a101c08e",
   "metadata": {},
   "source": [
    "## Model selection "
   ]
  },
  {
   "cell_type": "code",
   "execution_count": 63,
   "id": "b9902d93",
   "metadata": {},
   "outputs": [],
   "source": [
    "#lets Choose r2 score of below four Models\n",
    "dtc = DecisionTreeRegressor()\n",
    "knn = KNeighborsRegressor(n_neighbors=5)\n",
    "rf = RandomForestRegressor()\n",
    "ada = AdaBoostRegressor()"
   ]
  },
  {
   "cell_type": "code",
   "execution_count": 64,
   "id": "d38e215d",
   "metadata": {},
   "outputs": [
    {
     "name": "stdout",
     "output_type": "stream",
     "text": [
      "\n",
      "\n",
      "DecisionTreeRegressor()\n",
      "Scores :\n",
      "r2 score: 0.7876683671643416\n",
      "Cross Val score : 0.5862701194900034\n",
      "Error :\n",
      "mean absolute error : 196080.33033033035\n",
      "mean squared error :  352815053078.07806\n",
      "root mean squared error : 593982.36764914\n",
      "Difference :\n",
      "Diffrence between cross val score and r2 score is : 0.20\n",
      "\n",
      "\n",
      "KNeighborsRegressor()\n",
      "Scores :\n",
      "r2 score: 0.7300517909353378\n",
      "Cross Val score : 0.6633897072224835\n",
      "Error :\n",
      "mean absolute error : 285387.5675675676\n",
      "mean squared error :  448552061873.8739\n",
      "root mean squared error : 669740.2943483944\n",
      "Difference :\n",
      "Diffrence between cross val score and r2 score is : 0.07\n",
      "\n",
      "\n",
      "RandomForestRegressor()\n",
      "Scores :\n",
      "r2 score: 0.9063554631455253\n",
      "Cross Val score : 0.7966674716005798\n",
      "Error :\n",
      "mean absolute error : 169207.97804232803\n",
      "mean squared error :  155601884653.5004\n",
      "root mean squared error : 394464.0473522275\n",
      "Difference :\n",
      "Diffrence between cross val score and r2 score is : 0.11\n",
      "\n",
      "\n",
      "AdaBoostRegressor()\n",
      "Scores :\n",
      "r2 score: 0.5313659638628508\n",
      "Cross Val score : 0.4862422692058897\n",
      "Error :\n",
      "mean absolute error : 783148.1920337728\n",
      "mean squared error :  778692934848.261\n",
      "root mean squared error : 882435.796445419\n",
      "Difference :\n",
      "Diffrence between cross val score and r2 score is : 0.05\n"
     ]
    }
   ],
   "source": [
    "#checking each model with Cross val score\n",
    "model_list = [dtc,knn,rf,ada]\n",
    "least_difference = []\n",
    "for m in model_list:\n",
    "    m.fit(x_train,y_train)\n",
    "    pred = m.predict(x_test)\n",
    "    cvs = cross_val_score(m,pca_x,Y,cv =5)\n",
    "    print('\\n')\n",
    "    print(m)\n",
    "    print('Scores :')\n",
    "    print('r2 score:',r2_score(y_test,pred))\n",
    "    print('Cross Val score :',cvs.mean())\n",
    "    print('Error :')\n",
    "    print('mean absolute error :',mean_absolute_error(y_test,pred))\n",
    "    print('mean squared error : ', mean_squared_error(y_test,pred))\n",
    "    print('root mean squared error :',np.sqrt(mean_squared_error(y_test,pred)))\n",
    "    print('Difference :')\n",
    "    difference = np.abs(r2_score(y_test,pred) - cvs.mean())\n",
    "    print('Diffrence between cross val score and r2 score is : {0:.2f}'.format(difference))\n",
    "    least_difference.append((m,'Diffrence between cross val score and r2 score error is : {0:.2f}'.format(difference)))"
   ]
  },
  {
   "cell_type": "code",
   "execution_count": 65,
   "id": "3f215bba",
   "metadata": {},
   "outputs": [],
   "source": [
    "#Random forest giving high r2 score and compare to others errors also less"
   ]
  },
  {
   "cell_type": "markdown",
   "id": "629988d3",
   "metadata": {},
   "source": [
    "## 1. Random forest regressor - hyperparameter tuning"
   ]
  },
  {
   "cell_type": "code",
   "execution_count": 66,
   "id": "c7dd5287",
   "metadata": {},
   "outputs": [
    {
     "name": "stdout",
     "output_type": "stream",
     "text": [
      "0.8777140176971837\n",
      "{'n_estimators': 300, 'max_features': 'auto', 'criterion': 'mae'}\n"
     ]
    }
   ],
   "source": [
    "#lets use random forest regressor\n",
    "#it takes a lot lot of time approx 6 hours, so commented after\n",
    "parameters = {'n_estimators' : [100,200,300],'criterion':['mse','mae'],'max_features':['auto','sqrt','log2']}\n",
    "gsvrf = RandomizedSearchCV(rf, parameters, cv=5,scoring=\"r2\")\n",
    "gsvrf.fit(x_train,y_train)\n",
    "print(gsvrf.best_score_)\n",
    "print(gsvrf.best_params_)"
   ]
  },
  {
   "cell_type": "markdown",
   "id": "9e2befdb",
   "metadata": {},
   "source": [
    "## 2. KNN regressor - Hyperparameter tuning"
   ]
  },
  {
   "cell_type": "code",
   "execution_count": 67,
   "id": "2f43478b",
   "metadata": {},
   "outputs": [
    {
     "name": "stdout",
     "output_type": "stream",
     "text": [
      "0.8333579771379401\n",
      "{'weights': 'distance', 'n_neighbors': 7, 'leaf_size': 25, 'algorithm': 'auto'}\n"
     ]
    }
   ],
   "source": [
    "#lets create the parameter list to pass in Randomised seracgh cv\n",
    "parameters = {'n_neighbors':list(range(5,16,2)),'weights': ['uniform', 'distance'],\n",
    "              'algorithm': ['auto', 'ball_tree', 'kd_tree', 'brute'],'leaf_size':list(range(25,35))}\n",
    "#using randomised search CV\n",
    "gsvkn = RandomizedSearchCV(estimator= knn , param_distributions= parameters,cv =5)\n",
    "gsvkn.fit(x_train,y_train) \n",
    "print(gsvkn.best_score_)\n",
    "print(gsvkn.best_params_)"
   ]
  },
  {
   "cell_type": "code",
   "execution_count": 68,
   "id": "d7f72e27",
   "metadata": {},
   "outputs": [],
   "source": [
    "#we got our best parameters for knn using the randomized serach cv"
   ]
  },
  {
   "cell_type": "markdown",
   "id": "1bc2b3b4",
   "metadata": {},
   "source": [
    "## creating knn model using these parameters"
   ]
  },
  {
   "cell_type": "code",
   "execution_count": 70,
   "id": "f55525df",
   "metadata": {},
   "outputs": [
    {
     "name": "stdout",
     "output_type": "stream",
     "text": [
      "KNeighborsRegressor\n",
      "\n",
      "\n",
      "Scores :\n",
      "r2 score: 0.8811447553558078\n",
      "Cross Val score : 0.7387489831081567\n",
      "Error :\n",
      "mean absolute error : 154701.65913533766\n",
      "mean squared error :  197492568053.69574\n",
      "root mean squared error : 444401.3591942488\n",
      "Difference :\n",
      "Diffrence between cross val score and r2 score is : 0.14\n"
     ]
    }
   ],
   "source": [
    "#lets create knn model using these parameters\n",
    "print('KNeighborsRegressor')\n",
    "hyper_p_knn = KNeighborsRegressor(n_neighbors= 7 ,weights= 'distance', leaf_size= 25, algorithm= 'auto')\n",
    "hyper_p_knn.fit(x_train,y_train)\n",
    "hyper_p_pred = hyper_p_knn.predict(x_test)\n",
    "cvs = cross_val_score(hyper_p_knn,pca_x,Y,cv =5)\n",
    "print('\\n')\n",
    "print('Scores :')\n",
    "print('r2 score:',r2_score(y_test,hyper_p_pred))\n",
    "print('Cross Val score :',cvs.mean())\n",
    "print('Error :')\n",
    "print('mean absolute error :',mean_absolute_error(y_test,hyper_p_pred))\n",
    "print('mean squared error : ', mean_squared_error(y_test,hyper_p_pred))\n",
    "print('root mean squared error :',np.sqrt(mean_squared_error(y_test,hyper_p_pred)))\n",
    "print('Difference :')\n",
    "difference = np.abs(r2_score(y_test,hyper_p_pred) - cvs.mean())\n",
    "print('Diffrence between cross val score and r2 score is : {0:.2f}'.format(difference))"
   ]
  },
  {
   "cell_type": "markdown",
   "id": "e1d50c2d",
   "metadata": {},
   "source": [
    "## Creating Random Forest model using these parameters"
   ]
  },
  {
   "cell_type": "code",
   "execution_count": 71,
   "id": "3fa4be1e",
   "metadata": {},
   "outputs": [
    {
     "name": "stdout",
     "output_type": "stream",
     "text": [
      "\n",
      "\n",
      "Scores :\n",
      "r2 score: 0.8992801740996946\n",
      "Cross Val score : 0.8007866478022319\n",
      "Error :\n",
      "mean absolute error : 172482.64414414414\n",
      "mean squared error :  167358345275.54807\n",
      "root mean squared error : 409094.54319942725\n",
      "Difference :\n",
      "Diffrence between cross val score and r2 score is : 0.10\n"
     ]
    }
   ],
   "source": [
    "final_model_rf = RandomForestRegressor(n_estimators= 300,criterion= 'mae',max_features = 'auto')\n",
    "final_model_rf.fit(x_train,y_train)\n",
    "final_pred = final_model_rf.predict(x_test)\n",
    "cvs = cross_val_score(final_model_rf,pca_x,Y,cv =5)\n",
    "print('\\n')\n",
    "print('Scores :')\n",
    "print('r2 score:',r2_score(y_test,final_pred))\n",
    "print('Cross Val score :',cvs.mean())\n",
    "print('Error :')\n",
    "print('mean absolute error :',mean_absolute_error(y_test,final_pred))\n",
    "print('mean squared error : ', mean_squared_error(y_test,final_pred))\n",
    "print('root mean squared error :',np.sqrt(mean_squared_error(y_test,final_pred)))\n",
    "print('Difference :')\n",
    "difference = np.abs(r2_score(y_test,final_pred) - cvs.mean())\n",
    "print('Diffrence between cross val score and r2 score is : {0:.2f}'.format(difference))\n",
    "least_difference.append((m,'Diffrence between cross val score and r2 score is : {0:.2f}'.format(difference)))"
   ]
  },
  {
   "cell_type": "code",
   "execution_count": 72,
   "id": "7887c923",
   "metadata": {},
   "outputs": [],
   "source": [
    "#now our r2 score got incresed 89.92% after hyperparameter tuning\n",
    "#diffrence between cross val score and r2 score is also 0.10\n",
    "#which means no overfitting"
   ]
  },
  {
   "cell_type": "markdown",
   "id": "608bfa35",
   "metadata": {},
   "source": [
    "## Saving the model:"
   ]
  },
  {
   "cell_type": "code",
   "execution_count": 73,
   "id": "acded72b",
   "metadata": {},
   "outputs": [
    {
     "data": {
      "text/plain": [
       "['Cars_Price.obj']"
      ]
     },
     "execution_count": 73,
     "metadata": {},
     "output_type": "execute_result"
    }
   ],
   "source": [
    "#serialization using joblib\n",
    "import joblib\n",
    "joblib.dump(final_model_rf,'Cars_Price.obj')"
   ]
  },
  {
   "cell_type": "code",
   "execution_count": 74,
   "id": "faa5b1e6",
   "metadata": {},
   "outputs": [],
   "source": [
    "Cars_Price = joblib.load('Cars_Price.obj')"
   ]
  },
  {
   "cell_type": "code",
   "execution_count": 75,
   "id": "53316a26",
   "metadata": {},
   "outputs": [],
   "source": [
    "s_pred = Cars_Price.predict(x_test)"
   ]
  },
  {
   "cell_type": "code",
   "execution_count": 76,
   "id": "eed0711c",
   "metadata": {},
   "outputs": [
    {
     "data": {
      "text/plain": [
       "0.8992801740996946"
      ]
     },
     "execution_count": 76,
     "metadata": {},
     "output_type": "execute_result"
    }
   ],
   "source": [
    "r2_score(y_test,s_pred)"
   ]
  },
  {
   "cell_type": "code",
   "execution_count": 77,
   "id": "5de6a2ba",
   "metadata": {},
   "outputs": [
    {
     "data": {
      "image/png": "[encoded data removed]",
      "text/plain": [
       "<Figure size 432x288 with 1 Axes>"
      ]
     },
     "metadata": {
      "needs_background": "light"
     },
     "output_type": "display_data"
    }
   ],
   "source": [
    "#lets plot y_test vs predicted \n",
    "\n",
    "plt.figure(figsize=(6,4))\n",
    "plt.scatter(x = y_test,y = s_pred,color = 'r')\n",
    "plt.plot(y_test,y_test,color = 'b')\n",
    "plt.xlabel('Actual charges')\n",
    "plt.ylabel('Predicted charges')\n",
    "plt.title('Random forest Regressor')\n",
    "plt.show()"
   ]
  },
  {
   "cell_type": "markdown",
   "id": "70e3b4f2",
   "metadata": {},
   "source": [
    "### we can see that values are very close to the line"
   ]
  },
  {
   "cell_type": "markdown",
   "id": "48cd19dd",
   "metadata": {},
   "source": [
    "## Conclusuion : predicted x_test"
   ]
  },
  {
   "cell_type": "code",
   "execution_count": 78,
   "id": "b47d5c20",
   "metadata": {},
   "outputs": [
    {
     "data": {
      "text/html": [
       "<div>\n",
       "<style scoped>\n",
       "    .dataframe tbody tr th:only-of-type {\n",
       "        vertical-align: middle;\n",
       "    }\n",
       "\n",
       "    .dataframe tbody tr th {\n",
       "        vertical-align: top;\n",
       "    }\n",
       "\n",
       "    .dataframe thead th {\n",
       "        text-align: right;\n",
       "    }\n",
       "</style>\n",
       "<table border=\"1\" class=\"dataframe\">\n",
       "  <thead>\n",
       "    <tr style=\"text-align: right;\">\n",
       "      <th></th>\n",
       "      <th>0</th>\n",
       "      <th>1</th>\n",
       "      <th>2</th>\n",
       "      <th>3</th>\n",
       "      <th>4</th>\n",
       "      <th>5</th>\n",
       "      <th>6</th>\n",
       "      <th>7</th>\n",
       "      <th>8</th>\n",
       "      <th>9</th>\n",
       "      <th>...</th>\n",
       "      <th>1100</th>\n",
       "      <th>1101</th>\n",
       "      <th>1102</th>\n",
       "      <th>1103</th>\n",
       "      <th>1104</th>\n",
       "      <th>1105</th>\n",
       "      <th>1106</th>\n",
       "      <th>1107</th>\n",
       "      <th>1108</th>\n",
       "      <th>1109</th>\n",
       "    </tr>\n",
       "  </thead>\n",
       "  <tbody>\n",
       "    <tr>\n",
       "      <th>Predicted</th>\n",
       "      <td>679063.333333</td>\n",
       "      <td>363140.0</td>\n",
       "      <td>1.134447e+06</td>\n",
       "      <td>659183.333333</td>\n",
       "      <td>734070.0</td>\n",
       "      <td>2270800.0</td>\n",
       "      <td>1994700.0</td>\n",
       "      <td>828236.666667</td>\n",
       "      <td>4238055.0</td>\n",
       "      <td>617260.0</td>\n",
       "      <td>...</td>\n",
       "      <td>327840.0</td>\n",
       "      <td>416370.0</td>\n",
       "      <td>1681760.0</td>\n",
       "      <td>729858.333333</td>\n",
       "      <td>450716.666667</td>\n",
       "      <td>584260.0</td>\n",
       "      <td>3119900.0</td>\n",
       "      <td>1.499613e+06</td>\n",
       "      <td>625313.333333</td>\n",
       "      <td>1.991443e+06</td>\n",
       "    </tr>\n",
       "    <tr>\n",
       "      <th>Actual</th>\n",
       "      <td>695000.000000</td>\n",
       "      <td>365000.0</td>\n",
       "      <td>1.125000e+06</td>\n",
       "      <td>330000.000000</td>\n",
       "      <td>525000.0</td>\n",
       "      <td>2600000.0</td>\n",
       "      <td>1995000.0</td>\n",
       "      <td>825000.000000</td>\n",
       "      <td>7500000.0</td>\n",
       "      <td>650000.0</td>\n",
       "      <td>...</td>\n",
       "      <td>295000.0</td>\n",
       "      <td>340000.0</td>\n",
       "      <td>1499000.0</td>\n",
       "      <td>680000.000000</td>\n",
       "      <td>420000.000000</td>\n",
       "      <td>375000.0</td>\n",
       "      <td>2500000.0</td>\n",
       "      <td>1.475000e+06</td>\n",
       "      <td>616000.000000</td>\n",
       "      <td>2.295000e+06</td>\n",
       "    </tr>\n",
       "  </tbody>\n",
       "</table>\n",
       "<p>2 rows × 1110 columns</p>\n",
       "</div>"
      ],
      "text/plain": [
       "                    0         1             2              3         4     \\\n",
       "Predicted  679063.333333  363140.0  1.134447e+06  659183.333333  734070.0   \n",
       "Actual     695000.000000  365000.0  1.125000e+06  330000.000000  525000.0   \n",
       "\n",
       "                5          6              7          8         9     ...  \\\n",
       "Predicted  2270800.0  1994700.0  828236.666667  4238055.0  617260.0  ...   \n",
       "Actual     2600000.0  1995000.0  825000.000000  7500000.0  650000.0  ...   \n",
       "\n",
       "               1100      1101       1102           1103           1104  \\\n",
       "Predicted  327840.0  416370.0  1681760.0  729858.333333  450716.666667   \n",
       "Actual     295000.0  340000.0  1499000.0  680000.000000  420000.000000   \n",
       "\n",
       "               1105       1106          1107           1108          1109  \n",
       "Predicted  584260.0  3119900.0  1.499613e+06  625313.333333  1.991443e+06  \n",
       "Actual     375000.0  2500000.0  1.475000e+06  616000.000000  2.295000e+06  \n",
       "\n",
       "[2 rows x 1110 columns]"
      ]
     },
     "execution_count": 78,
     "metadata": {},
     "output_type": "execute_result"
    }
   ],
   "source": [
    "#lets make a dataframe of actual answers vs predicted answers\n",
    "conclusion = pd.DataFrame((Cars_Price.predict(x_test)[:],y_test[:]),index= ['Predicted','Actual'])\n",
    "conclusion"
   ]
  },
  {
   "cell_type": "code",
   "execution_count": null,
   "id": "e0fc9067",
   "metadata": {},
   "outputs": [],
   "source": []
  }
 ],
 "metadata": {
  "kernelspec": {
   "display_name": "Python 3",
   "language": "python",
   "name": "python3"
  },
  "language_info": {
   "codemirror_mode": {
    "name": "ipython",
    "version": 3
   },
   "file_extension": ".py",
   "mimetype": "text/x-python",
   "name": "python",
   "nbconvert_exporter": "python",
   "pygments_lexer": "ipython3",
   "version": "3.8.8"
  }
 },
 "nbformat": 4,
 "nbformat_minor": 5
}
